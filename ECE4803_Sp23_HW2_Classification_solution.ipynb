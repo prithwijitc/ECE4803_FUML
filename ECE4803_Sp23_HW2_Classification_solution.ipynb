{
  "nbformat": 4,
  "nbformat_minor": 0,
  "metadata": {
    "colab": {
      "provenance": [],
      "include_colab_link": true
    },
    "kernelspec": {
      "display_name": "Python 3",
      "language": "python",
      "name": "python3"
    },
    "language_info": {
      "codemirror_mode": {
        "name": "ipython",
        "version": 3
      },
      "file_extension": ".py",
      "mimetype": "text/x-python",
      "name": "python",
      "nbconvert_exporter": "python",
      "pygments_lexer": "ipython3",
      "version": "3.7.4"
    }
  },
  "cells": [
    {
      "cell_type": "markdown",
      "metadata": {
        "id": "view-in-github",
        "colab_type": "text"
      },
      "source": [
        "<a href=\"https://colab.research.google.com/github/prithwijitc/ECE4803_FUML/blob/main/ECE4803_Sp23_HW2_Classification_solution.ipynb\" target=\"_parent\"><img src=\"https://colab.research.google.com/assets/colab-badge.svg\" alt=\"Open In Colab\"/></a>"
      ]
    },
    {
      "cell_type": "markdown",
      "metadata": {
        "id": "RClLiweMf_BU"
      },
      "source": [
        "# <center> Georgia Institute of Technology \n",
        "# <center> ECE 4803/8803: Fundamentamentals of Machine Learning (FunML)\n",
        "# <center> Spring 2023\n",
        "## <center> **Homework Assignment # 2**\n",
        "## <center> <font color='red'>**Solution Copy**</font>\n",
        "## <center> **Due: Friday, February 03, 2023 @8PM**\n",
        "## <center> **DL students in Section QF** have until the end of the weekend to submit their solutions \n",
        "\n",
        "\n",
        "\n"
      ]
    },
    {
      "cell_type": "markdown",
      "source": [
        "**Please read the following instructions carefully.**\n",
        "- The entire homework assignment is to be completed on this `ipython` notebook. It is designed to be used with `Google Colab`, but you may use other tools (e.g., Jupyter Lab) as well.\n",
        "- Make sure that you execute all cells in a way so their output is printed beneath the corresponding cell. Thus, after successfully executing all cells properly, the resulting notebook has all the questions and your answers.  \n",
        "- Print a PDF copy of the notebook with all its outputs printed and submit the **PDF** on `Canvas` under Assignments\n",
        "- Make sure you delete any scratch cells before you export this document as a PDF. Do not change the order of the questions and do not remove any part of the questions. Edit at the indicated places only. \n",
        "- Rename the PDF according to the format:  ***LastName_FirstName_ECE_4803_8803_sp23_assignment_#.pdf*** \n",
        "- It is encouraged for you to discuss homework problems amongst each other, but any copying is strictly prohibited and will be subject to Georgia Tech Honor Code. \n",
        "- Late homework is not accepted unless arranged otherwise and in advance. \n",
        "- Comment on your codes. \n",
        "- Refer to the tutorial and the supplementary/reading materials that are posted on `Canvas` for the first lectures 3, 4 and 5 to help you with this assignment.\n",
        "- **IMPORTANT:** Start your solution with a <font color='red'>**BOLD RED**</font> text that includes the words *solution* and the part of the problem you are working on. For example, start your solution for Part (c) of Problem 2 by having the first line as: \n",
        "<br> <font color='red' > **Solution to Problem 2 Part (c)**</font>. Failing to do so may result in a *20\\% penalty* of the total grade."
      ],
      "metadata": {
        "id": "veEW4pF9lFW5"
      }
    },
    {
      "cell_type": "markdown",
      "metadata": {
        "id": "wbMKzJrZUA_G"
      },
      "source": [
        "## **Assignment Objectives:**\n",
        "\n",
        "- Learn the fundamentals behind Naïve Bayes and Logistic Regression from both the theoretical and implemntation standpoints\n",
        "- Learn the use of classes in Python\n",
        "- Learn the use of performance evaluation metrics for classification tasks\n"
      ]
    },
    {
      "cell_type": "markdown",
      "source": [
        "## **Guide for Exporting Ipython Notebook to PDF:**\n",
        "Here is a [video](https://www.youtube.com/watch?v=yXzw9Dd_Na0) summarizes how to export Ipythin Notebook into PDF.<br>\n",
        " - **[Method1: Print to PDF]**<br>\n",
        " After you run every cell and get their outputs, you can use **\\[File\\] -> \\[Print\\]** and then choose **\\[Save as PDF\\]** to export this Ipython Notebook to PDF for submission. <br>*Note: Sometimes figures or texts are splited into different pages. Try to tweak the layout by adding empty lines to avoid this effect as much as you can.*\n",
        " - **[Method2: colab-pdf script]**<br>\n",
        " The author of that video provided [an alternative method](https://github.com/brpy/colab-pdf) that can generate better layout PDF. However, it only works for Ipythin Notebook without embedded images.<br>\n",
        "  **How to use:** Put the script below into cells at the end of your Ipythin Notebook. After you run the fisrt cell, it will ask for google drive permission. Executing the second cell will generate the PDF file in your google drive home directory. Make sure you use the correct path and file name.\n",
        " ```\n",
        "## this will link colab with your google drive\n",
        "from google.colab import drive\n",
        "drive.mount('/content/drive')\n",
        " ```\n",
        "\n",
        " ```\n",
        " %%capture\n",
        "!wget -nc https://raw.githubusercontent.com/brpy/colab-pdf/master/colab_pdf.py\n",
        "from colab_pdf import colab_pdf\n",
        "colab_pdf('LastName_FirstName_ECE_4803_sp22_assignment_#.ipynb') ## change path and file name\n",
        " ```\n",
        " \n",
        "**Note:**\n",
        "Georgia Tech provides a student discount for Adobe Acrobat subscription. Further information can be found [here](https://faq.oit.gatech.edu/content/adobe-licensing). "
      ],
      "metadata": {
        "id": "RoQQ0sGSl73z"
      }
    },
    {
      "cell_type": "markdown",
      "source": [
        "## **What is a good Strategy for FunML Homework?**\n",
        "\n",
        "- Understand the algorithm $\\rightarrow$ Implement Python code step by step $\\rightarrow$ Verify the result.<br>**(Every step is important, and the order is also important.)**<br><br>\n",
        "\n",
        "- Understand the concepts and math of the algorithm.\n",
        " - Slides\n",
        " - Reading, References, & Resources\n",
        " - Homework descriptions\n",
        "<br><br>\n",
        "- Prcatice Numpy techniques and skills.\n",
        " - indexing\n",
        " - dimension/broadcasting\n",
        " - mask/boolean array\n",
        "<br><br>\n"
      ],
      "metadata": {
        "id": "K-bC22YAWIRi"
      }
    },
    {
      "cell_type": "markdown",
      "source": [
        "### **Problem 1: Naïve Bayes for Classifying Real-Valued Data (40pts)**\n",
        "In Lecture 2, we learnt the Naïve Bayes classification algorithm to classify discrete-valued feature data. In this problem, we extend this to real-valued data with the popular `Iris` dataset provided by the `sklearn` library. To summarize Naïve Bayes algorithm and implementation, here is **a step-by-step guide**:\n",
        " 0. inspect the dataset and view it \n",
        " 1. write down the Bayes Theorem equation\n",
        " 2. apply/utilize the naïve conditional independence assumption\n",
        " 3. calculate the prior probabilities using the dataset\n",
        " 4. model the likelihood and caluclate model parameters using the dataset. Now you have all components you need for Naïve Bayes classifier.\n",
        " 5. use the likelihood and the priori to calculate posterior probabilities for the test data.\n",
        " 6. categorize the test data according to the highest posterior probability value\n",
        "<br>\n",
        "\n",
        "In Homework 1, we studied the feature (input) and the target (output) of the `Iris` dataset.<br><br> *\\[Execute this cell below\\]*"
      ],
      "metadata": {
        "id": "9ar169RPjCH2"
      }
    },
    {
      "cell_type": "code",
      "source": [
        "# pip install sklearn  (keep commented if sklearn already installed)\n",
        "import numpy as np\n",
        "from sklearn.datasets import load_iris\n",
        "\n",
        "iris = load_iris() \n",
        "\n",
        "print('Number of feature is: ' + str(len(iris['feature_names'])) + '\\n') \n",
        "\n",
        "print('Feature names are:')\n",
        "print(iris['feature_names'])\n",
        "\n",
        "print('\\nNumber of target classes is: ' + str(len(iris['target_names'])) + '\\n')\n",
        "\n",
        "print('Class names are:')\n",
        "print(iris['target_names'])"
      ],
      "metadata": {
        "colab": {
          "base_uri": "https://localhost:8080/"
        },
        "id": "TKHqREppkvTe",
        "outputId": "f6f72d87-b685-4038-9401-fd73c598160d"
      },
      "execution_count": null,
      "outputs": [
        {
          "output_type": "stream",
          "name": "stdout",
          "text": [
            "Number of feature is: 4\n",
            "\n",
            "Feature names are:\n",
            "['sepal length (cm)', 'sepal width (cm)', 'petal length (cm)', 'petal width (cm)']\n",
            "\n",
            "Number of target classes is: 3\n",
            "\n",
            "Class names are:\n",
            "['setosa' 'versicolor' 'virginica']\n"
          ]
        }
      ]
    },
    {
      "cell_type": "markdown",
      "source": [
        "Now, we know that there are 4 features and 3 classes in `Iris` dataset, whereas $\\mathbf{x}=[x_1, x_2, x_3, x_4]^T\\in \\mathbb{R}^4$ and $y\\in\\{c_0, c_1, c_2\\}$, $\\mathbf{x}$ being a 4-dimensional feature vector for a data point and $y$ being the corresponding label taking on values from the set $\\{c_{i}\\}^{2}_{i=0}$."
      ],
      "metadata": {
        "id": "SEvKlmFl2HbO"
      }
    },
    {
      "cell_type": "markdown",
      "source": [
        "#### **Problem 1 (a) Review of Bayes Theorem (5pts)**\n",
        " For simplicity, we **only** take the first feature and the first two classes for this part of the problem, part 1(a). **That is, we are trying to use only \"sepal length\" feature to decide if a flower belongs to \"setosa\" or \"versicolor\" classes.** According to Bayes Theorem, we have: (take $c_1$ as example)<br><br>\n",
        "$$P(y=c_1|x_1)=\\frac{P(x_1|y=c_1)P(y=c_1)}{P(x_1)}$$ <br>\n",
        "The left hand side $P(y=c_1|x_1)$ basically tells us that **given a certain feature $x_1$ (\"sepal length\"), the probability that this flower belongs to class $\\mathbf{c_1}$ (\"versicolor\").** Also, we have $P(y=c_1|x_1) + P(y=c_0|x_1) = 1$, since this flower either belongs to \"setosa\" or \"versicolor\" class.<br><br>**Questions:** In the above equation, which of the terms does correspond to the likelihood, the marginal likelihood, the prior probabilites, and the posterior probabilities? \n",
        "\n",
        "What does $P(x_1|y=c_1)$ mean, in plain english, in this part of the problem? "
      ],
      "metadata": {
        "id": "xTnCa4-ql9Xo"
      }
    },
    {
      "cell_type": "markdown",
      "source": [
        "### <font color='red'>**Problem 1 (a) Solution Copy:</font>**"
      ],
      "metadata": {
        "id": "aM7w9Y453XCf"
      }
    },
    {
      "cell_type": "markdown",
      "source": [
        "$P(y=c_1|x_1)$ is the posterior probability \n",
        "\n",
        "$P(x_1|y=c_1)$ is the likelihood\n",
        "\n",
        "$P(y=c_1)$ is the prior probability \n",
        "\n",
        "$P(x_1)$ is the marginal likelihood \n",
        "\n",
        "$P(x_1|y=c_1)$ means the following: given that a flower belongs to versicolor class, the probability that this flower has certain sepal length feature is computed as $P(x_1|y=c_1)$. "
      ],
      "metadata": {
        "id": "dWm2NEWN3Yzo"
      }
    },
    {
      "cell_type": "markdown",
      "source": [
        "#### **Problem 1 (b) Naïve Bayes and Priori (5pts)**\n",
        "Now, we go back to original 4 features and 3 classes setup in `Iris`, the Bayes theorem becomes:\n",
        "<br><br>\n",
        "$$P(y=c_k|\\mathbf{x})=\\frac{P(\\mathbf{x}|y=c_k)P(y=c_k)}{P(\\mathbf{x})}$$ <br>\n",
        "Note that $\\mathbf{x}$ is boldface which means it represnets a vector of feature. Since $P(\\mathbf{x})$ is a multivariate distribution of 4 features, modeling it is not an easy task. This is where the **naïve assumption** comes into play&mdash;it assumes features are **conditionally independent** of each other. Hence we can decouple the likelihood:<br><br>\n",
        "$$P(y=c_k|\\mathbf{x})=\\frac{\\prod^{4}_{j=1}P(x_{j}|y=c_k)P(y=c_k)}{P(\\mathbf{x})}$$ <br>\n",
        "\n",
        "you can also observe that the denominator $P(\\mathbf{x})$ is merely a scaling constant and does not depend on $y$. Therefore, we usually ignore that for our purposes and to simplify the calculations. The above formulation for Naïve Bayes then reduces to:<br>\n",
        "$$P(y=c_k|\\mathbf{x}) \\propto \\prod^{4}_{j=1}P(x_{j}|y=c_k) \\times P(y=c_k)$$\n",
        "\n",
        "Now, you can clearly notice that in order to get the posterior probabilities, we need each likelihood and the prior probabilities. We first look at the prior probabilities so that we can simply estimate $P(y=c_k)$ by calculating the ratio of each $c_k$ in the `Iris` dataset. That is $P(y=c_k)=\\frac{N_{c_k}}{N}$, where $N_{c_k}$ is the number of examples in $c_k$ class, and $N$ is the number of total examples.<br><br>\n",
        "**Question:** Complete the cell below that calculates the total number of examples $N$ in `Iris`, how many examples in each class $N_{c_k}$, and the value of $P(y=c_k)$ for each $k$? [You can use the table below to help yourself build the python implementation in the cell below] <br>\n",
        "\n",
        "Hint: You may check different functions of NumPy to count the occurrences of each value in an array."
      ],
      "metadata": {
        "id": "Ci0Qdrk54Pm_"
      }
    },
    {
      "cell_type": "markdown",
      "source": [
        "\n",
        "| $$P(y=0)$$ | $$P(y=1)$$ | $$P(y=2)$$ |\n",
        "|   :----:   |   :----:   |   :----:   |\n",
        "|            |            |            |"
      ],
      "metadata": {
        "id": "Qo1aPx-_0RFh"
      }
    },
    {
      "cell_type": "markdown",
      "source": [
        "### <font color='red'>**Problem 1 (b) Solution Copy:</font>**"
      ],
      "metadata": {
        "id": "wLU8otoWDRcu"
      }
    },
    {
      "cell_type": "code",
      "source": [
        "labels = iris.target\n",
        "\n",
        "'''\n",
        "N: an integer value\n",
        "  Number of total examples in Iris dataset.\n",
        "        \n",
        "N_ck: ndarray of shape (4,) \n",
        "  Number of examples in each class.\n",
        "\n",
        "P_yck: ndarray of shape (4,)\n",
        "  Priori of each class.\n",
        "'''\n",
        "\n",
        "#-----------------Don't change anything above------------------------#\n",
        "\n",
        "N = labels.shape[0]\n",
        "\n",
        "N_ck = np.bincount(labels)\n",
        "\n",
        "P_yck = N_ck / N\n",
        "\n",
        "#-----------------Don't change anything below------------------------#\n",
        "print('Total number of examples in Iris: N =', end =' ')\n",
        "print(N)\n",
        "\n",
        "for i in range(3):\n",
        "  print('Number of examples in class ' + str(i) + ': N_c' +str(i)+ ' =', end =' ')\n",
        "  print(N_ck[i])\n",
        "\n",
        "for i in range(3):\n",
        "  print('P(y=c' + str(i) + ') =', end =' ')\n",
        "  print(P_yck[i])"
      ],
      "metadata": {
        "colab": {
          "base_uri": "https://localhost:8080/"
        },
        "id": "aU_-O6r8nvfb",
        "outputId": "e9744984-d4ee-4269-b3f3-1771ab395310"
      },
      "execution_count": null,
      "outputs": [
        {
          "output_type": "stream",
          "name": "stdout",
          "text": [
            "[50 50 50]\n",
            "Total number of examples in Iris: N = 150\n",
            "Number of examples in class 0: N_c0 = 50\n",
            "Number of examples in class 1: N_c1 = 50\n",
            "Number of examples in class 2: N_c2 = 50\n",
            "P(y=c0) = 0.3333333333333333\n",
            "P(y=c1) = 0.3333333333333333\n",
            "P(y=c2) = 0.3333333333333333\n"
          ]
        }
      ]
    },
    {
      "cell_type": "markdown",
      "source": [
        "#### **Problem 1 (c) Probabilistic Model for Likelihood (10pts)**\n",
        "Next, we want to link our likelihood to probabilistic models. Each of the $P(x_{j}|y=c_k)$ terms conditions a feature variable on a target class via a probability distribution parameterized by certain parameters, $\\mathbf{\\theta}$. These parameters could be the mean and standard deviation of a Gaussian distribtuion in case of real-valued features, or they could just be the success rate in a Bernoulli distribution in case of binary valued $x_{j}$. In any case, these parameters are learnt during the training process from the labeled training data. It would then be more appropriate to write the above formulation as:\n",
        "\n",
        "$$P(y=c_k|\\mathbf{x}) \\propto \\prod^{4}_{j=1}P(x_{j}|y=c_k, \\theta_{jc_k}) \\times P(y=c_k),$$\n",
        "\n",
        "where $\\theta_{jc_k}$ represents the parameter set characterizing the conditional distribution of feature $j$ on class $c_k$. <br><br>\n",
        "\n",
        "**Question:** We load a few examples in `Iris` and assume their features to be independent of each other and sampled from **Gaussian distributions**. Say $\\hat{\\mu}_{jc_k} = \\frac{\\sum^{N}_{i=1}x_{ij}\\times \\mathbb{1}_{y_{i}=c_k}}{N_{c_k}}$ and $\\hat{\\sigma}_{jc_k} = \\sqrt{\\frac{\\sum^{N}_{i=1}(x_{ij} - \\hat{\\mu}_{jc_k})^{2}\\times \\mathbb{1}_{y_{i}=c_k}}{N_{c_k}}}$. $\\mu_{jc_k}, \\sigma_{jc_k}$ refer to the mean and st. deviation, respectively, of the $j-th$ feature variable in class $c_k$, $i$ refers to the training example number, and $\\mathbb{1}_{cond}$ is the identity function that takes the value 1 when the $cond$ is true and 0 otherwise. Complete the cell below that calculates values of the mean, $\\hat{\\mu}$, and std, $\\hat{\\sigma}$, for every feature and for each class. [You can use the table below to help yourself build the python implementation in the cell below] <br>\n",
        "\n",
        "\n",
        "\n"
      ],
      "metadata": {
        "id": "br-WHcQ3GG9-"
      }
    },
    {
      "cell_type": "markdown",
      "source": [
        "|       | $\\hat{\\mu}_{1y}$ | $\\hat{\\mu}_{2y}$ | $\\hat{\\mu}_{3y}$ | $\\hat{\\mu}_{4y}$\n",
        "| :---  |      :----:      |      :----:      |      :----:      |      :----:      |\n",
        "| $y=0$ |                  |                  |                  |                  |\n",
        "| $y=1$ |                  |                  |                  |                  |\n",
        "| $y=2$ |                  |                  |                  |                  |\n",
        "\n",
        "|       | $\\hat{\\sigma}_{1y}$ | $\\hat{\\sigma}_{2y}$ | $\\hat{\\sigma}_{3y}$ | $\\hat{\\sigma}_{4y}$\n",
        "| :---  |      :----:      |      :----:      |      :----:      |      :----:      |\n",
        "| $y=0$ |                  |                  |                  |                  |\n",
        "| $y=1$ |                  |                  |                  |                  |\n",
        "| $y=2$ |                  |                  |                  |                  |"
      ],
      "metadata": {
        "id": "o3CotrKB2pGA"
      }
    },
    {
      "cell_type": "markdown",
      "source": [
        "### <font color='red'>**Problem 1 (c) Solution Copy:</font>**"
      ],
      "metadata": {
        "id": "3vkgk1ijArn-"
      }
    },
    {
      "cell_type": "code",
      "source": [
        "features = iris.data[1::17, :]\n",
        "labels = iris.target[1::17]\n",
        "\n",
        "print('A subset of the Iris dataset:')\n",
        "print('example number  x1  x2  x3  x4   y')\n",
        "for i in range(9):\n",
        "  print('      '+ str(i+1), end ='        ')\n",
        "  print(features[i, :], end =' ')\n",
        "  print(labels[i])\n",
        "\n",
        "'''\n",
        "mu: ndarray of shape (3, 4)\n",
        "  Numpy array containing mu_jck.\n",
        "\n",
        "sigma: ndarray of shape (3, 4)\n",
        "  Numpy array containing sigma_jck.\n",
        "'''\n",
        "mu = np.zeros((3, 4))\n",
        "sigma = np.zeros((3, 4))\n",
        "\n",
        "#-----------------Don't change anything above------------------------#\n",
        "\n",
        "mu = (features[::3] + features[1::3] + features[2::3]) / 3\n",
        "\n",
        "sigma = np.sqrt((np.square(features[::3] - mu) + np.square(features[1::3] - mu) + np.square(features[2::3] - mu)) /3)\n",
        "\n",
        "#-----------------Don't change anything below------------------------#\n",
        "with np.printoptions(precision=8, floatmode='fixed'):\n",
        "  print('\\nAnswer:')\n",
        "  print('     mu_1y      mu_2y      mu_3y      mu_4y')\n",
        "  for i in range(3):\n",
        "    print('y=' + str(i), end =' ')\n",
        "    print(mu[i])\n",
        "\n",
        "  print('\\n     sigma_1y   sigma_2y   sigma_3y   sigma_4y')\n",
        "  for i in range(3):\n",
        "    print('y=' + str(i), end =' ')\n",
        "    print(sigma[i])"
      ],
      "metadata": {
        "colab": {
          "base_uri": "https://localhost:8080/"
        },
        "id": "HClcWt1eLNOW",
        "outputId": "dae50cd8-9b03-4efe-b76d-1d95baab5752"
      },
      "execution_count": null,
      "outputs": [
        {
          "output_type": "stream",
          "name": "stdout",
          "text": [
            "A subset of the Iris dataset:\n",
            "example number  x1  x2  x3  x4   y\n",
            "      1        [4.9 3.  1.4 0.2] 0\n",
            "      2        [5.7 3.8 1.7 0.3] 0\n",
            "      3        [5.  3.2 1.2 0.2] 0\n",
            "      4        [6.9 3.1 4.9 1.5] 1\n",
            "      5        [5.6 2.5 3.9 1.1] 1\n",
            "      6        [6.7 3.1 4.7 1.5] 1\n",
            "      7        [6.3 2.9 5.6 1.8] 2\n",
            "      8        [6.9 3.2 5.7 2.3] 2\n",
            "      9        [6.4 3.1 5.5 1.8] 2\n",
            "\n",
            "Answer:\n",
            "     mu_1y      mu_2y      mu_3y      mu_4y\n",
            "y=0 [5.20000000 3.33333333 1.43333333 0.23333333]\n",
            "y=1 [6.40000000 2.90000000 4.50000000 1.36666667]\n",
            "y=2 [6.53333333 3.06666667 5.60000000 1.96666667]\n",
            "\n",
            "     sigma_1y   sigma_2y   sigma_3y   sigma_4y\n",
            "y=0 [0.35590261 0.33993463 0.20548047 0.04714045]\n",
            "y=1 [0.57154761 0.28284271 0.43204938 0.18856181]\n",
            "y=2 [0.26246693 0.12472191 0.08164966 0.23570226]\n"
          ]
        }
      ]
    },
    {
      "cell_type": "markdown",
      "source": [
        "#### **Problem 1 (d) Inference (10pts)**\n",
        "Finally, we have our classifier trained on the subset of `Iris`, and we can use this model for inferencing. The inference phase, also referred to as testing phase, is carried out by obtaining the likelihoods of all test data points by sampling them from the parameterized distributions learnt earlier, and then maximizing the posterior over all possible labels, as shown below:\n",
        "\n",
        "$$\\hat{y} = \\underset{c_k}{\\operatorname{argmax}} \\prod^{4}_{j=1}P(x^{test}_{j}|y=c_k, \\theta_{jc_k}) \\times P(y=c_k)$$\n",
        "\n",
        "The $\\hat{y}=c_k$ associated with the highest posterior probility is the classified result of the test data. This is called the **Maximum a posteriori (MAP) estimation**. Alternatively, the prior may be set to be uniform, in which case the formulation reduces to just maximizing the conditional data likelihoods, in what is known as the **Maximum Likelihood Estimation (MLE)**. \n",
        "\n",
        "An issue that frequently occurs with long chains of probability products is that of numerical underflow i.e., the computer is unable to handle extremely high levels of precision required and forces the result to just be zero. This is often circumvented by computing the logs of the probabilities rather than the raw probabilities themselves, turning the product chain into a summation chain. The maximization may then be carried out in the log space ($e$ as base). This is made possible by the monotonic behavior of the log function&mdash;what minimizes or maximizes $f(x)$ also minimizes or maximizes, respectively, $\\text{log} f(x)$. The restructured formulation is given below:\n",
        "\n",
        "$$\\hat{y} = \\underset{c_k}{\\operatorname{argmax}} \\sum^{4}_{j=1}\\text{log} P(x^{test}_{j}|y=c_k, \\theta_{jc_k}) +  \\text{log}P(y=c_k)$$\n",
        "\n",
        "To obtain the posteriors back, one may always exponentiate the expression on the right hand side, and normalize afterwards.<br><br>\n",
        "\n",
        "**Questions:** In problem 1 (b), we calculated $P(y=c_k)$. In problem 1 (c), we calculated $\\mu_{jc_k}$ and $\\sigma_{jc_k}$ for the Gaussian likelihood model, $P(x_{j}|y=c_k)= \\mathcal{N}(\\mu_{jc_k}, \\sigma_{jc_k}^2)$. You will need to use those numbers to answer the following questions.\n",
        "\n",
        "**_i)_** Write down the log form of the likelihood function. In other words, what is $\\text{log} P(x_{j}|y=c_k)$? Then complete the `log_gaussian` function.\n",
        "\n",
        "**_ii)_** Suppose you are given a test data sample, flower with feature $\\mathbf{x}^{test}=[5, 3, 1, 0.5]^T$. Compute the posteriors for this given sample by hand, calculator, or numpy. Then, complete the calculation of the variable `posteriors` in the cell below.\n",
        "\n",
        "**_iii)_** Finally, according to the result above, to which class does this test example belong? Also, complete the calculation of the variable `y_hat` in the cell below.<br>\n",
        "\n",
        "[You should answer this question both in a text cell and the code cell below]"
      ],
      "metadata": {
        "id": "2S6PBVz4VUa9"
      }
    },
    {
      "cell_type": "markdown",
      "source": [
        "### <font color='red'>**Problem 1 (d) Solution Copy:</font>**"
      ],
      "metadata": {
        "id": "AvQ-Sz-CYCTk"
      }
    },
    {
      "cell_type": "markdown",
      "source": [
        " **Solution to i)**<br>\n",
        " $\\text{log} P(x^{test}_{j}|y=c_k, \\theta_{jc_k}) = -\\text{log}(\\sigma_{jc_k}\\sqrt{2\\pi})-\\frac{1}{2}(\\frac{x_j^{test}-\\mu_{jc_k}}{\\sigma_{jc_k}})^2$ <br><br>\n",
        " \n",
        " **Solution to ii)**<br>\n",
        " $\\frac{\\prod^{4}_{j=1}P(x^{test}_{j}|y=c_0, \\theta_{jc_0}) \\times P(y=c_0)}{P(x^{test})}\\approx 1$<br>\n",
        " $\\frac{\\prod^{4}_{j=1}P(x^{test}_{j}|y=c_1, \\theta_{jc_1}) \\times P(y=c_1)}{P(x^{test})}\\approx 0$<br>\n",
        "$\\frac{\\prod^{4}_{j=1}P(x^{test}_{j}|y=c_2, \\theta_{jc_2}) \\times P(y=c_2)}{P(x^{test})}\\approx 0$<br><br>\n",
        "\n",
        " **Solution to iii)**<br>\n",
        " This example belongs to class $c_0$, since it has the highest posterior."
      ],
      "metadata": {
        "id": "CpZ6D-Ru64eq"
      }
    },
    {
      "cell_type": "code",
      "source": [
        "x_test = np.array([[5, 3, 1, 0.5]])\n",
        "\n",
        "'''\n",
        "posteriors: ndarray of shape (3,)\n",
        "  Numpy array containing posteriers for each class\n",
        "\n",
        "y_hat: an integer value\n",
        "  Classified result of the test data.\n",
        "\n",
        "'''\n",
        "\n",
        "#-----------------Don't change anything above------------------------#\n",
        "\n",
        "## question i\n",
        "def log_gaussian(x, mean, std):\n",
        "  \"\"\"Function computes log P(x) from a normal distribution specified by \n",
        "  parameters mean and std.\"\"\"\n",
        "  \n",
        "  log_likelihood = -np.log(std*np.sqrt(2*np.pi)) - 0.5*((x-mean)/std)**2\n",
        "  \n",
        "  return log_likelihood\n",
        "\n",
        "## question ii\n",
        "\n",
        "numerator = np.exp(np.sum(log_gaussian(x_test, mu, sigma), axis=1) + np.log(P_yck))\n",
        "\n",
        "posteriors = numerator / np.sum(numerator)\n",
        "\n",
        "## question iii\n",
        "y_hat = np.argmax(np.sum(log_gaussian(x_test, mu, sigma), axis=1) + np.log(P_yck))\n",
        "\n",
        "#-----------------Don't change anything below------------------------#\n",
        "print('y_hat=', end=' ')\n",
        "print(y_hat)\n",
        "\n",
        "print('posteriors =', end=' ')\n",
        "print(posteriors)\n"
      ],
      "metadata": {
        "colab": {
          "base_uri": "https://localhost:8080/"
        },
        "id": "FmXCGZTtUEmI",
        "outputId": "5d5df38e-b948-44d4-fe35-7d4096d511cc"
      },
      "execution_count": null,
      "outputs": [
        {
          "output_type": "stream",
          "name": "stdout",
          "text": [
            "y_hat= 0\n",
            "posteriors = [1.00000000e+00 9.40957643e-14 0.00000000e+00]\n"
          ]
        }
      ]
    },
    {
      "cell_type": "markdown",
      "source": [
        "#### **Problem 1 (e) Naïve Bayes Classifier Implementation (10pts)**\n",
        "Finally, you are going to implement your very own Naïve Bayes classifier, with its `fit()` and `predict()` functions, among others. We will work with the `Iris` dataset as an example, but the class should be able to take as input any other real valued feature data of any number of features and training examples, and be able to predict classes based on the MAP principle for unseen test data, as well as return the normalized posterior probabilities. Since we are working with real-valued data, we are going to impose the conditional feature distributions to be gaussians parameterized by two paramaters, mean ($\\mu$) and standard deviation ($\\sigma$). \n",
        "\n",
        "**_i)_** Complete the `log_gaussian()` function. This should be similar to problem 1 (d).\n",
        "\n",
        "**_ii)_** Complete the `fit()` function. This function fits the model parameters to the dataset. This should be similar to problem 1 (b) and (c).\n",
        "\n",
        "**_iii)_** Complete the `predict` function. It uses the parameters calculated in ii), perform inference on test data by computing the posterior probabilities for each point in the test set and then selecting the class corresponding to the highest posterior. This should be similar to problem 1 (d).\n",
        "\n",
        "\n",
        "\n",
        "> Do not change the function definitions for the functions defined in the *MyNaiveBayes* class template below. They should take inputs and output results of the form indicated. You are free to add other internal functions and use them inside the class definition as you see convenient. However, that should not change the external code's structure, nor the shape and form of the outputs returned. **_Note_**: Any variable preceded by the `self.` keyword gets stored by the class structure and can be used and changed afterwards inside the class regardless of whether the function that first made it returns it or not.\n",
        "\n",
        "\n",
        "\n"
      ],
      "metadata": {
        "id": "_lLmCXu7YIGl"
      }
    },
    {
      "cell_type": "markdown",
      "source": [
        "### <font color='red'>**Problem 1 (e) Solution Copy:</font>**"
      ],
      "metadata": {
        "id": "1J8FsASsqO0g"
      }
    },
    {
      "cell_type": "code",
      "source": [
        "# implement naive bayes class for iris\n",
        "\n",
        "import numpy as np\n",
        "from sklearn.datasets import load_iris\n",
        "from sklearn.model_selection import train_test_split\n",
        "from sklearn.metrics import accuracy_score\n",
        "\n",
        "class MyNaiveBayes:\n",
        "    def __init__(self, X_train, y_train):\n",
        "        \"\"\"Function intializes the Naive Bayes class.\n",
        "        \n",
        "        Parameters:\n",
        "        -----------\n",
        "        X_train: ndarray of shape (N,D)\n",
        "            Numpy array containing N training examples, each D dimensional.\n",
        "        \n",
        "        y_train: ndarray of shape (N,)\n",
        "            Numpy array containing vector of ground truth classes for examples \n",
        "            in X_train\n",
        "        \"\"\"\n",
        "        \n",
        "        self.X_train = X_train\n",
        "        self.y_train = y_train\n",
        "        \n",
        "    ## quetion i\n",
        "    def log_gaussian(self, x, mean, std):\n",
        "        \"\"\"Function computes log P(x) from a normal distribution specified by \n",
        "        parameters mean and std. To be called during inference\"\"\"\n",
        "        \n",
        "        log_likelihood = -np.log(std*np.sqrt(2*np.pi)) - 0.5*((x-mean)/std)**2\n",
        " \n",
        "        \n",
        "        return log_likelihood\n",
        "    \n",
        "    ## quetion ii\n",
        "    def fit(self):\n",
        "        \"\"\"Function computes likelihood parameters from training data in the \\\n",
        "        training phase\"\"\"\n",
        "                \n",
        "        self.priors = (np.bincount(self.y_train)/self.y_train.size)\n",
        "        \n",
        "        # calculate per class data likelihoods\n",
        "        self.feature_means = np.zeros((self.priors.size, self.X_train.shape[1]))\n",
        "        self.feature_std = np.zeros((self.priors.size, self.X_train.shape[1]))\n",
        "        \n",
        "        for i in range(self.priors.size):\n",
        "            self.feature_means[i] = np.mean(self.X_train[self.y_train == i], axis=0)\n",
        "            self.feature_std[i] = np.std(self.X_train[self.y_train == i], axis=0)\n",
        "        \n",
        "        \n",
        "    ## quetion iii\n",
        "    def predict(self, X_test):\n",
        "        \"\"\"Function computes the normalized posterior probabilities and class \\\n",
        "        predictions for the provided test data.\n",
        "        \n",
        "        Parameters:\n",
        "        -----------\n",
        "        X_test: ndarray of shape (N,D)\n",
        "            2D numpy array containing N testing examples having D dimensions each.\n",
        "               \n",
        "        Returns:\n",
        "        --------\n",
        "        y_pred: ndarray of shape (N,1)\n",
        "            vector containing class predictions for each of the N training\\\n",
        "             points in X_test.\n",
        "               \n",
        "        posteriors: ndarray of shape (N,C)\n",
        "            numpy array containing normalized class posterior probabilities \\\n",
        "            for each of the C classes for each training example.\n",
        "                   \n",
        "        \"\"\"\n",
        "\n",
        "        # compute per class posteriors for test data\n",
        "        ### without for loop\n",
        "        posteriors = np.exp(np.sum(self.log_gaussian(X_test[:, np.newaxis, :], self.feature_means[np.newaxis, :, :], self.feature_std[np.newaxis, :, :]), axis=-1) + np.log(self.priors[np.newaxis, :]))\n",
        "        \n",
        "        ### using for loop\n",
        "        #for i in range(self.priors.size):\n",
        "        #    posteriors[:, i] = np.exp(np.sum(self.log_gaussian(X_test, self.feature_means[i], self.feature_std[i]), axis=1) + np.log(self.priors[i]))\n",
        "\n",
        "        # perform inference\n",
        "        posteriors = (posteriors / np.sum(posteriors, axis=1).reshape(-1,1))\n",
        "        y_pred = np.argmax(posteriors, axis=1)\n",
        "        \n",
        "        return y_pred, posteriors\n",
        "\n",
        "#-----------------Don't change anything below------------------------#\n",
        "\n",
        "# define train and test sizes\n",
        "N_train = 20\n",
        "N_test = 150 - N_train\n",
        "\n",
        "# load data\n",
        "iris = load_iris()\n",
        "X, y = iris.data, iris.target\n",
        "\n",
        "# train-test split\n",
        "X_train, X_test, y_train, y_test = train_test_split(X, y, test_size=N_test, \n",
        "                                                    train_size=N_train, \n",
        "                                                    random_state=4803)\n",
        "\n",
        "model = MyNaiveBayes(X_train, y_train)\n",
        "model.fit()\n",
        "y_pred, _ = model.predict(X_test)\n",
        "\n",
        "print(\"Accuracy Score: %.3f\" % accuracy_score(y_test, y_pred))   "
      ],
      "metadata": {
        "colab": {
          "base_uri": "https://localhost:8080/"
        },
        "id": "rs64ykLhpcyE",
        "outputId": "8dc00283-ae3e-48ea-9be7-d3ab15906ccb"
      },
      "execution_count": null,
      "outputs": [
        {
          "output_type": "stream",
          "name": "stdout",
          "text": [
            "Accuracy Score: 0.938\n"
          ]
        }
      ]
    },
    {
      "cell_type": "markdown",
      "source": [
        "### **Problem 2: Logistic Regression for Binary Classification (40pts)**\n",
        "Logistic regression is a popular machine learning algorithm for binary classification problems. Here, we will use the `breast_cancer` dataset in `sklearn` to guide you through building your own classifier. The target variable $y$ can be modeled as a binary random variable taking on values in the set $[0,1]$ via a bernoulli distribution characterized by the probability of success, $p$, conditioned on the $d-$dimensional feature vector $\\mathbf{x}\\in\\mathbb{R}^{d}$. Additionally, $p$ is obtained by taking the sigmoid of $\\mathbf{x}$. This formulation is shown below:\n",
        "\n",
        "\\begin{align}\n",
        "P(y|\\mathbf{x}) &= Ber(y;p) \\\\\n",
        "         &= Ber(y;\\sigma(\\mathbf{x})) \\\\\n",
        "         &= \\sigma(\\mathbf{x})^{y}\\times (1-\\sigma(\\mathbf{x}))^{1-y}, \\quad\\quad (1)\n",
        "\\end{align}<br>\n",
        "where $\\sigma(\\mathbf{x}) = \\frac{1}{1+e^{-w^{T}\\mathbf{x}}}$ and $w\\in\\mathbb{R}^{d}$ is the parameter that we want to learn from dataset. You may notice: when $y=0$, $P(y=0|\\mathbf{x})=1-\\sigma(\\mathbf{x})$, and when $y=1$, $P(y=1|\\mathbf{x})=\\sigma(\\mathbf{x})$. It's the same as in the Lecture 3 page 12 with $b=0$."
      ],
      "metadata": {
        "id": "1REPkLdcu5la"
      }
    },
    {
      "cell_type": "markdown",
      "source": [
        "#### **Problem 2 (a) Sigmoid Function (5pts)**\n",
        "Please complete the sigmoid function in the cell below. Calculate $P(y=0|\\mathbf{x})$ and $P(y=1|\\mathbf{x})$ with the given $w1$ and $w2$ separately and a test data feature $x$ from `breast_cancer` dataset."
      ],
      "metadata": {
        "id": "oqdJqhlTxvx4"
      }
    },
    {
      "cell_type": "markdown",
      "source": [
        "### <font color='red'>**Problem 2 (a) Solution Copy:</font>**"
      ],
      "metadata": {
        "id": "XmcT9O8V8mvO"
      }
    },
    {
      "cell_type": "code",
      "source": [
        "from sklearn.datasets import load_breast_cancer\n",
        "cancer = load_breast_cancer()\n",
        "x = cancer.data[0, :].reshape(1, -1)\n",
        "y = cancer.target[0]\n",
        "\n",
        "w1 = np.full(30, 0.002).reshape(-1, 1)\n",
        "w2 = np.full(30, -0.002).reshape(-1, 1)\n",
        "\n",
        "'''\n",
        "P_y0x_w1: A float value\n",
        "  Conditional probability of y=0 given x with w1.\n",
        "\n",
        "P_y1x_w1: A float value\n",
        "  Conditional probability of y=1 given x with w1.\n",
        "\n",
        "P_y0x_w2: A float value\n",
        "  Conditional probability of y=0 given x with w2.\n",
        "\n",
        "P_y1x_w2: A float value\n",
        "  Conditional probability of y=1 given x with w2.\n",
        "\n",
        "'''\n",
        "\n",
        "#-----------------Don't change anything above------------------------#\n",
        "\n",
        "def sigmoid(X, w):\n",
        "  \"\"\"Computes sigmoid for given data array X and parameter w\"\"\"\n",
        "  \n",
        "  sigmoid_val = 1/ (1 + np.exp(-np.dot(X,w))) \n",
        "  \n",
        "  return sigmoid_val\n",
        "\n",
        "P_y0x_w1 = 1 - sigmoid(x, w1)\n",
        "P_y1x_w1 = sigmoid(x, w1)\n",
        "\n",
        "P_y0x_w2 = 1 - sigmoid(x, w2)\n",
        "P_y1x_w2 = sigmoid(x, w2)\n",
        "\n",
        "#-----------------Don't change anything below------------------------#\n",
        "print('feature x=', end=' ')\n",
        "print(x)\n",
        "print('label y=', end=' ')\n",
        "print(y)\n",
        "\n",
        "print('\\nUsing w1:')\n",
        "print('P(y=0|x)=', end=' ')\n",
        "print(P_y0x_w1)\n",
        "\n",
        "print('P(y=1|x)=', end=' ')\n",
        "print(P_y1x_w1)\n",
        "\n",
        "print('\\nUsing w2:')\n",
        "print('P(y=0|x)=', end=' ')\n",
        "print(P_y0x_w2)\n",
        "\n",
        "print('P(y=1|x)=', end=' ')\n",
        "print(P_y1x_w2)"
      ],
      "metadata": {
        "colab": {
          "base_uri": "https://localhost:8080/"
        },
        "id": "mjCl09M08l-1",
        "outputId": "e2530e5b-7cea-4261-9978-273d411b9582"
      },
      "execution_count": null,
      "outputs": [
        {
          "output_type": "stream",
          "name": "stdout",
          "text": [
            "feature x= [[1.799e+01 1.038e+01 1.228e+02 1.001e+03 1.184e-01 2.776e-01 3.001e-01\n",
            "  1.471e-01 2.419e-01 7.871e-02 1.095e+00 9.053e-01 8.589e+00 1.534e+02\n",
            "  6.399e-03 4.904e-02 5.373e-02 1.587e-02 3.003e-02 6.193e-03 2.538e+01\n",
            "  1.733e+01 1.846e+02 2.019e+03 1.622e-01 6.656e-01 7.119e-01 2.654e-01\n",
            "  4.601e-01 1.189e-01]]\n",
            "label y= 0\n",
            "\n",
            "Using w1:\n",
            "P(y=0|x)= [[0.0007982]]\n",
            "P(y=1|x)= [[0.9992018]]\n",
            "\n",
            "Using w2:\n",
            "P(y=0|x)= [[0.9992018]]\n",
            "P(y=1|x)= [[0.0007982]]\n"
          ]
        }
      ]
    },
    {
      "cell_type": "markdown",
      "source": [
        "#### **Problem 2 (b) Logistic Regression Cost Function (10pts)**\n",
        "After we know the formulation of the logistic regression, we need to know how to train the parameter $w$ using dataset. In part (a), we already see that different $w$ can provide very different $P(y|\\mathbf{x})$. Hence, our target here is to find the best $w$ that maximizes $P(y|\\mathbf{x})$ for the training data. As before, it is easier to work with logs of probabilities than the raw probabilities themselves, so we take the log on both sides of (1) to obtain:\n",
        "\n",
        "$$\\text{log } P(y|x) = y\\times \\text{log }\\sigma(\\mathbf{x})+(1-y)\\times \\text{log }(1 - \\sigma(\\mathbf{x}))$$\n",
        "\n",
        "The model training involves maximizing $\\text{log } P(y|x)$ over all possible values of $w$ via an MLE formulation. The equivalent of this is to minimize the negative log-likelihood, $-\\text{log } P(y|x)$ over $w$. This optimization problem is shown below:\n",
        "\n",
        "$$w^{*} = \\underset{w}{\\operatorname{argmin}} -y\\times \\text{log }\\sigma(\\mathbf{x})-(1-y)\\times \\text{log }(1 - \\sigma(\\mathbf{x}))$$\n",
        "\n",
        "Since the training data usually consists of multiple labeled training examples, $\\mathcal{D}=\\{(\\mathbf{x}_{i},y_{i})\\}^{N}_{i=1}$, the optimization is carried out over the expected log likelihood loss, as shown below:\n",
        "\n",
        "\\begin{align}\n",
        "w^{*} &= \\underset{w}{\\operatorname{argmin}} \\underset{(\\mathbf{x},y)\\backsim P(\\mathbf{x},y)}{\\mathbb{E}}[-y\\times \\text{log }\\sigma(\\mathbf{x})-(1-y)\\times \\text{log }(1 - \\sigma(\\mathbf{x}))] \\\\\n",
        "&= \\underset{w}{\\operatorname{argmin}} \\frac{1}{N}\\sum^{N}_{i=1}-y_{i}\\times \\text{log }\\sigma(\\mathbf{x}_{i})-(1-y_{i})\\times \\text{log }(1 - \\sigma(\\mathbf{x}_{i})) = LL(\\mathbf{x},y,w) \\quad \\quad (2)\n",
        "\\end{align}\n",
        "Equation (2) is the cost function of logistic regression, and by minimizing this cost function with $w$, we can maximize the $P(y|\\mathbf{x})$ for the training data.<br><br>\n",
        "**Question:** Complete the cost function in the cell below. Calculate the cost function value using the given  $w_1$  and  $w_2$  separately with the data from breast_cancer dataset. (You may need to use the sigmoid function in problem 2 (a)) Which $w$ is better? $w_1$ or $w_2$?"
      ],
      "metadata": {
        "id": "U-Zvb4-V9euG"
      }
    },
    {
      "cell_type": "markdown",
      "source": [
        "### <font color='red'>**Problem 2 (b) Solution Copy:</font>**"
      ],
      "metadata": {
        "id": "gLnvmVGgJwHo"
      }
    },
    {
      "cell_type": "code",
      "source": [
        "cancer = load_breast_cancer()\n",
        "data = cancer.data\n",
        "label = cancer.target\n",
        "\n",
        "w1 = np.full(30, 0.002).reshape(-1, 1)\n",
        "w2 = np.full(30, -0.002).reshape(-1, 1)\n",
        "\n",
        "'''\n",
        "cost_1: A float value\n",
        "  Cost function value with w1.\n",
        "\n",
        "cost_2: A float value\n",
        "  Cost function value with w2.\n",
        "\n",
        "'''\n",
        "\n",
        "#-----------------Don't change anything above------------------------#\n",
        "\n",
        "def logit_cost_func(w, X, y):\n",
        "  \"\"\"function computes value of cost function given the w vector, the feature data, and corresponding labels\n",
        "  \"\"\"\n",
        "  \n",
        "  cost = np.sum(- y.reshape(-1, 1) * np.log(sigmoid(X, w)) - (1 - y.reshape(-1, 1)) * np.log(1 - sigmoid(X, w))) / X.shape[0]\n",
        "  \n",
        "  return cost\n",
        "\n",
        "cost_1 = logit_cost_func(w1, data, label)\n",
        "\n",
        "cost_2 = logit_cost_func(w2, data, label)\n",
        "\n",
        "#-----------------Don't change anything below------------------------#\n",
        "print('Cost function value with w1:', end=' ')\n",
        "print(cost_1)\n",
        "print('Cost function value with w2:', end=' ')\n",
        "print(cost_2)"
      ],
      "metadata": {
        "colab": {
          "base_uri": "https://localhost:8080/"
        },
        "id": "FDj3sD8ZHVDp",
        "outputId": "43a13114-bdb3-4891-d5f0-ad47caf940ab"
      },
      "execution_count": null,
      "outputs": [
        {
          "output_type": "stream",
          "name": "stdout",
          "text": [
            "Cost function value with w1: 2.16773861630246\n",
            "Cost function value with w2: 1.6662547928342286\n"
          ]
        }
      ]
    },
    {
      "cell_type": "markdown",
      "source": [
        "$w_2$ is better since it has lower cost."
      ],
      "metadata": {
        "id": "3M5G_M-lJoY0"
      }
    },
    {
      "cell_type": "markdown",
      "source": [
        "#### **Problem 2 (c) Solve the Optimization Problem with Gradient Descent (10pts)**\n",
        "Now, our target is to find the $w$ associated to the minimum of the cost function (2). You may remember from your calculus classes how the derivative is used to calculate the minima/maxima of a function. This is done by obtaining the expression for the derivative, setting it equal to zero, and then solving for the equation.<br>\n",
        "\n",
        "However, in the case of the logistic regression cost function, there is no closed form solution to the equation; rather the equation is solved via an iterative minimization algorithm called the **Gradient Descent**. Training may be stopped once the algorithm has sufficiently converged, as measured by either the amount of change happening to the cost function over successive iterations, or by prespecifying the number of iterations. The expression for the gradient of the logistic regression objective function is given below:\n",
        "\n",
        "$$\\frac{\\partial LL(\\mathbf{x},y,w)}{\\partial w_{j}} = -\\frac{1}{N}\\sum^{N}_{i=1} (y_{i} - \\sigma(\\mathbf{x}_{i}))x_{ji},$$\n",
        "\n",
        "where $w_{j}$ is component of the vector $w$ and $x_{j}$ the *j-th* component of the *i-th* training example, $\\mathbf{x}_{i}.$ Each gradient descent step performs the following update:\n",
        "\n",
        "$$w_{j}^{k+1} = w_{j}^{k} - \\text{step} \\times \\frac{\\partial LL(\\mathbf{x},y,w)}{\\partial w_{j}}, \\quad k=0,1,\\dots,K$$<br><br>\n",
        "\n",
        "**Question:** Complete the gradient of cost function and gradient descent function in the below cell. Use the provided parameters to get the $w^K$."
      ],
      "metadata": {
        "id": "ypf67VZLJ-Rx"
      }
    },
    {
      "cell_type": "markdown",
      "source": [
        "### <font color='red'>**Problem 2 (c) Solution Copy:</font>**"
      ],
      "metadata": {
        "id": "INWdkS1CSZ_C"
      }
    },
    {
      "cell_type": "code",
      "source": [
        "cancer = load_breast_cancer()\n",
        "data = cancer.data\n",
        "label = cancer.target\n",
        "\n",
        "w0 = np.full(30, 0).reshape(-1, 1) # initial w0\n",
        "num_epochs = 100  ## K\n",
        "step_size = 0.0001 ## step size\n",
        "\n",
        "'''\n",
        "w_K: ndarray of shape (D, 1)\n",
        "  The parameter vector that the graident descent ends up with.\n",
        "\n",
        "'''\n",
        "\n",
        "#-----------------Don't change anything above------------------------#\n",
        "\n",
        "def logit_grad(w, X, y):\n",
        "  \"\"\"Function computes the gradient of the logistic regression given the w vector, \n",
        "  the data tensor , and corresponding targets\"\"\"\n",
        "  \n",
        "  grad = -(np.sum((y.reshape(-1,1) - sigmoid(X, w).reshape(-1,1))*X, axis=0) / X.shape[0]).reshape(-1,1)\n",
        "\n",
        "  return grad\n",
        "\n",
        "def grdient_descent(w0, X, y, num_epochs=20, step=2):\n",
        "  \"\"\"Function performs gradient descent to compute optimal w.\n",
        "  \n",
        "  Parameters:\n",
        "  -----------\n",
        "  w0: ndarray of shape (D,),\n",
        "      initial of parameter vector w.\n",
        "\n",
        "  X: ndarray of shape (N, D),\n",
        "      feature tensor of dataset.\n",
        "\n",
        "  y: ndarray of shape (N,),\n",
        "      label vector of dataset.\n",
        "\n",
        "  num_epochs: int, \n",
        "      integer specifying the number of training epochs for the gradient descent algorithm.\n",
        "      \n",
        "  step: float,\n",
        "      float specifying the step size in the gradient descent algorithm.\n",
        "  \n",
        "  \"\"\"\n",
        "  w = w0\n",
        "  for epoch in range(num_epochs):\n",
        "\n",
        "    w = w - step * logit_grad(w, X, y) \n",
        "\n",
        "  return w\n",
        "\n",
        "w_K = grdient_descent(w0, data, label, num_epochs, step_size)\n",
        "\n",
        "#-----------------Don't change anything below------------------------#\n",
        "print('w^K =', end=' ')\n",
        "print(w_K)"
      ],
      "metadata": {
        "id": "Ic9BA-bNMU_7",
        "colab": {
          "base_uri": "https://localhost:8080/"
        },
        "outputId": "033b3877-0497-4fad-933f-fd54d5ef8c16"
      },
      "execution_count": null,
      "outputs": [
        {
          "output_type": "stream",
          "name": "stdout",
          "text": [
            "w^K = [[ 1.40313714e-02]\n",
            " [ 2.60313351e-02]\n",
            " [ 8.58981078e-02]\n",
            " [ 1.23094523e-01]\n",
            " [ 1.46600786e-04]\n",
            " [ 4.96865930e-05]\n",
            " [-7.81343956e-05]\n",
            " [-3.99877235e-05]\n",
            " [ 2.76785560e-04]\n",
            " [ 1.09541419e-04]\n",
            " [ 9.18615082e-05]\n",
            " [ 2.08930875e-03]\n",
            " [ 5.39365876e-04]\n",
            " [-2.63567931e-02]\n",
            " [ 1.28138873e-05]\n",
            " [ 2.11292153e-05]\n",
            " [ 2.14648965e-05]\n",
            " [ 9.51987801e-06]\n",
            " [ 3.48894881e-05]\n",
            " [ 5.60290574e-06]\n",
            " [ 1.34450111e-02]\n",
            " [ 3.31080070e-02]\n",
            " [ 8.19110281e-02]\n",
            " [-9.38450272e-02]\n",
            " [ 1.91528645e-04]\n",
            " [ 5.73557155e-05]\n",
            " [-9.93683636e-05]\n",
            " [-1.55273115e-05]\n",
            " [ 3.98595810e-04]\n",
            " [ 1.22092134e-04]]\n"
          ]
        }
      ]
    },
    {
      "cell_type": "markdown",
      "source": [
        "#### **Problem 2 (d) Logistic Regression Classifier Implementation (15pts)**\n",
        "Finally, for the inference phase on the test data, the trained weights are used to compute posterior probabilities on test examples, which are then classified as belonging to either of the two classes depending on if the posterior is greater than or less than $0.5$, as shown below:\n",
        "\n",
        "\\begin{align}\n",
        "&P(y|\\mathbf{x}^{test}_{i}) = \\sigma(w^{T}\\mathbf{x}^{test}_{i}) \\\\ \\\\\n",
        "&\\hat{y} = \\begin{cases}1 \\quad P(y|\\mathbf{x}^{test}_{i})>0.5\\\\0 \\quad  \\text{otherwise}\\end{cases}\n",
        "\\end{align}                   \n",
        "\n",
        "In this exercise, you are going to implement your very own Logistic Regression class, with its `fit()` and `predict()` functions, among others. We will work with the `breast_cancer` dataset (accessed via `load_breast_cancer` function in `sklearn`) as an example, but the class should be able to take as input any other real valued feature data of any number of features and training examples, and be able to predict binary classes based on the MLE principle for unseen test data, as well as return the normalized posterior probabilities. Carefully read the questions below and answer them appropriately.\n",
        "\n",
        "**_i)_** Complete the `sigmoid` function. This should be similar to problem 2 (a).\n",
        "\n",
        "**_ii)_** Complete the `logit_cost_func` function. This should be similar to problem 2 (b).\n",
        "\n",
        "**_ii)_** Complete the `logit_grad` function. This should be similar to problem 2 (c).\n",
        "\n",
        "**_iv)_** Complete the `fit` function with gradient descent algorithm. This should be similar to problem 2 (c).\n",
        "\n",
        "**_v)_** Implement the prediction routine elaborated above in the body of the `predict` function below. Finally, execute the code cell and describe what you observe.\n",
        "\n",
        "**_vi)_** Assuming you implemented everything correctly, the algorithm should have worked and yet, it fails to perform decently. The reason for that is the un-normalized and un-scaled training and test data. Uncomment the line below performing the normalization and execute the code cell again. The performance should be much better. Interestingly, normalizing the data makes little to no difference to the performacne of the naive bayes classifier. Go back to Question 1 and verify this for yourselves. Why do you think normalization is so vital for Logistic Regression but hardly matters for Naïve Bayes?\n",
        "\n",
        "> Do not change the function definitions for the functions defined in the MyLogisticRegression class template below. They should take inputs and output results of the form indicated. You are free to add other internal functions and use them inside the class definition as you see convenient. However, that should not change the external code's structure, nor the shape and form of the outputs returned. **_Note_**: Any variable preceded by the `self.` keyword gets stored by the class structure and can be used and changed afterwards inside the class regardless of whether the function that first made it returns it or not. "
      ],
      "metadata": {
        "id": "3nv-YIWLVXde"
      }
    },
    {
      "cell_type": "markdown",
      "metadata": {
        "id": "w9uKciAcNUoU"
      },
      "source": [
        "### <font color='red'>**Problem 2 (d) Solution Copy:</font>**"
      ]
    },
    {
      "cell_type": "code",
      "metadata": {
        "colab": {
          "base_uri": "https://localhost:8080/",
          "height": 348
        },
        "id": "j4buJzdtNVl2",
        "outputId": "f107d0b8-825c-4898-fd9a-b9aa99a3f3c8"
      },
      "source": [
        "import numpy as np\n",
        "from numpy.linalg import norm\n",
        "from sklearn.datasets import load_breast_cancer\n",
        "from sklearn.model_selection import train_test_split\n",
        "from sklearn.metrics import accuracy_score\n",
        "\n",
        "import matplotlib.pyplot as plt\n",
        "\n",
        "class MyLogisticRegression:    \n",
        "    def __init__(self, X, y):    \n",
        "        \"\"\"Function intializes the Logistic Regression class.\n",
        "        \n",
        "        Parameters:\n",
        "        -----------\n",
        "        X_train: ndarray of shape (N,D)\n",
        "            Numpy array containing N training examples, each D dimensional.\n",
        "        \n",
        "        y_train: ndarray of shape (N,)\n",
        "            Numpy array containing vector of ground truth classes for examples in X_train\n",
        "        \"\"\"\n",
        "        \n",
        "        self.X = np.concatenate((X, np.ones((X.shape[0], 1))), axis=1)\n",
        "        self.y = y\n",
        "        self.w  = np.random.randn(self.X.shape[1],1)\n",
        "        \n",
        "    ## question i\n",
        "    def sigmoid(self, X, w):\n",
        "        \"\"\"Computes sigmoid for given data array X\"\"\"\n",
        "        \n",
        "        return 1/(1+np.exp(-X.dot(w)))\n",
        "\n",
        "    ## question ii\n",
        "    # define logistic regression cost function\n",
        "    def logit_cost_func(self, w, X, y):\n",
        "        \"\"\"function computes value of cost function given the w vector, the feature tensor, and corresponding targets\n",
        "        \"\"\"\n",
        "\n",
        "        return np.sum(- y.reshape(-1, 1) * np.log(self.sigmoid(X, w)) - (1 - y.reshape(-1, 1)) * np.log(1 - self.sigmoid(X, w))) / X.shape[0]\n",
        "    \n",
        "    ## question iii\n",
        "    # define gradient function\n",
        "    def logit_grad(self, w, X, y):\n",
        "        \"\"\"Function computes the gradient of the logistic regression given the w vector, \n",
        "        the tensor , and corresponding targets\"\"\"\n",
        "    \n",
        "        return -(np.sum((y.reshape(-1,1) - self.sigmoid(X, w).reshape(-1,1))*X, axis=0) / X.shape[0]).reshape(-1,1)\n",
        "\n",
        "    ## question iv\n",
        "    def fit(self, num_epochs=20, step=2):\n",
        "        for epoch in range(num_epochs):\n",
        "            #print(\"Epoch: [%d/%d]\"%(epoch, num_epochs), \"| Gradient magnitude: %.2f\" % norm(self.logit_grad(self.w, self.X, self.y),2))\n",
        "            self.w = self.w - step * self.logit_grad(self.w, self.X, self.y) \n",
        "            \n",
        "    ## question v   \n",
        "    def predict(self, X):  \n",
        "        \"\"\"Function computes the normalized posterior probabilities and class predictions for the provided test data.\n",
        "        \n",
        "        Parameters:\n",
        "        -----------\n",
        "        X: ndarray of shape (N,D)\n",
        "            2D numpy array containing N testing examples having D dimensions each.\n",
        "               \n",
        "        Returns:\n",
        "        --------\n",
        "        y_pred: ndarray of shape (N,1)\n",
        "            vector containing class predictions for each of the N training points in X_test.\n",
        "               \n",
        "        probs: ndarray of shape (N,1)\n",
        "            numpy array containing normalized class posterior probabilities for each of the positive class\n",
        "                   \n",
        "        \"\"\"\n",
        "        X = np.concatenate((X, np.ones((X.shape[0], 1))), axis=1)\n",
        "        y_pred = np.zeros(X.shape[0]).reshape(-1,1).astype(int)\n",
        "        probs = self.sigmoid(X, self.w)\n",
        "        y_pred[probs > 0.5] = 1\n",
        "        \n",
        "        return y_pred, probs\n",
        " \n",
        "\n",
        "def roc(probs, y_test):\n",
        "    \"\"\"Function returns TPR and FPR given a vector of probabilities and another \n",
        "    for ground-truth predictions\"\"\"\n",
        "    \n",
        "    thresholds = np.linspace(0,1,100)\n",
        "    mask = (probs > thresholds)*1 \n",
        "    TPR = np.sum(mask * y_test.reshape(-1,1), axis=0) / y_test.sum()\n",
        "    FPR = np.sum(mask * (1-y_test.reshape(-1,1)), axis=0) / (1 - y_test).sum()\n",
        "    \n",
        "    return TPR, FPR\n",
        "\n",
        "#-----------------Don't change anything below------------------------#\n",
        "\n",
        "# define train and test sizes\n",
        "N_train = 20\n",
        "N_test = 150 - N_train\n",
        "\n",
        "# load data\n",
        "cancer = load_breast_cancer()\n",
        "X, y = cancer.data, cancer.target\n",
        "\n",
        "# Normalize X\n",
        "X = (X - np.min(X, axis=0, keepdims=True)) / (np.max(X, axis=0, keepdims=True) - np.min(X, axis=0, keepdims=True))\n",
        "\n",
        "# train-test split\n",
        "X_train, X_test, y_train, y_test = train_test_split(X, y, test_size=N_test, train_size=N_train, random_state=4803)\n",
        "\n",
        "# train model and predict on test data\n",
        "model =  MyLogisticRegression(X_train, y_train)\n",
        "model.fit(num_epochs = 50, step=2)\n",
        "y_pred, probs = model.predict(X_test)\n",
        "\n",
        "# compute accuracy\n",
        "print(\"Accuracy Score: %.2f\" % accuracy_score(y_pred, y_test))\n",
        "print(\"\\nTrue Positive Rate: %.2f\" % (np.sum(y_pred.reshape(-1,1) * y_test.reshape(-1,1))/np.sum(y_test)))\n",
        "print(\"False Positive Rate: %.2f\" % (np.sum(y_pred.reshape(-1,1) * (1 - y_test).reshape(-1,1))/np.sum(1 - y_test)))\n",
        "\n",
        "# plot ROC\n",
        "TPR, FPR = roc(probs, y_test)\n",
        "plt.plot(FPR, TPR, linestyle='--', color='blue') \n",
        "plt.plot([0,1],[0,1], linestyle='--', color='red') \n",
        "plt.xlabel('FPR')\n",
        "plt.ylabel('TPR')\n",
        "plt.show()\n"
      ],
      "execution_count": null,
      "outputs": [
        {
          "output_type": "stream",
          "name": "stdout",
          "text": [
            "Accuracy Score: 0.89\n",
            "\n",
            "True Positive Rate: 0.93\n",
            "False Positive Rate: 0.18\n"
          ]
        },
        {
          "output_type": "display_data",
          "data": {
            "text/plain": [
              "<Figure size 432x288 with 1 Axes>"
            ],
            "image/png": "[encoded data removed]"
          },
          "metadata": {
            "needs_background": "light"
          }
        }
      ]
    },
    {
      "cell_type": "markdown",
      "source": [
        "### <font color='red'>**Problem 2 (d) vi Solution Copy:</font>**"
      ],
      "metadata": {
        "id": "0yBDeV7vmCk6"
      }
    },
    {
      "cell_type": "markdown",
      "source": [],
      "metadata": {
        "id": "QoRYzjBh63m5"
      }
    },
    {
      "cell_type": "markdown",
      "metadata": {
        "id": "gn7SL7D4LKjP"
      },
      "source": [
        "\n",
        "Unscaled feature values can result in problems during training, resulting in unstable convergence of $w$ parameters. It is good practice to standardize both the inputs and outputs before training with logistic regression algorithm, especially if the original values are on very different scales. \n",
        "\n",
        "Naive Bayes on the other hand simply uses the feature values to calculate mean and standard deviation parameters for gaussians that are later used to sample the probability of various feature values in test phase. Normalization is thus not needed for this case. "
      ]
    },
    {
      "cell_type": "markdown",
      "source": [
        "#### **Problem 2 (e) Effect of Learning Rate (Check)**\n",
        "\n",
        "In this part, you will observe the effect of the learning rate on the algorithm's performance. Up until this part, you have used the step parameter as 2. Now, you will experiment with a few values to see the effect of the learning rate. Input the learning rates as 0.05, 2, and 100, respectively. Which one of these values produces a classifer with the highest accuracy? Discuss the issues by the other two learning rates. "
      ],
      "metadata": {
        "id": "ef-AjjmwOW8I"
      }
    },
    {
      "cell_type": "markdown",
      "source": [
        "### <font color='red'>**Problem 2 (e) vi Solution Copy:</font>**"
      ],
      "metadata": {
        "id": "WMP8M6kyiZEG"
      }
    },
    {
      "cell_type": "code",
      "source": [
        "import numpy as np\n",
        "from numpy.linalg import norm\n",
        "from sklearn.datasets import load_breast_cancer\n",
        "from sklearn.model_selection import train_test_split\n",
        "from sklearn.metrics import accuracy_score\n",
        "\n",
        "import matplotlib.pyplot as plt\n",
        "\n",
        "\n",
        "\n",
        "# define train and test sizes\n",
        "N_train = 20\n",
        "N_test = 150 - N_train\n",
        "\n",
        "# load data\n",
        "cancer = load_breast_cancer()\n",
        "X, y = cancer.data, cancer.target\n",
        "\n",
        "# Normalize X\n",
        "X = (X - np.min(X, axis=0, keepdims=True)) / (np.max(X, axis=0, keepdims=True) - np.min(X, axis=0, keepdims=True))\n",
        "\n",
        "# train-test split\n",
        "X_train, X_test, y_train, y_test = train_test_split(X, y, test_size=N_test, train_size=N_train, random_state=4803)\n",
        "\n",
        "\n",
        "\n",
        "#-----------------Don't change anything above------------------------#\n",
        "\n",
        "learning_rates = [0.05, 2, 100]\n",
        "\n",
        "#-----------------Don't change anything below------------------------#\n",
        "for curr_lr in learning_rates:\n",
        "  # train model and predict on test data\n",
        "  model =  MyLogisticRegression(X_train, y_train)\n",
        "  model.fit(num_epochs = 50, step=curr_lr)\n",
        "  y_pred, probs = model.predict(X_test)\n",
        "\n",
        "  # compute accuracy\n",
        "  print(\"Accuracy Score: %.2f\" % accuracy_score(y_pred, y_test))\n",
        "  print(\"\\nTrue Positive Rate: %.2f\" % (np.sum(y_pred.reshape(-1,1) * y_test.reshape(-1,1))/np.sum(y_test)))\n",
        "  print(\"False Positive Rate: %.2f\" % (np.sum(y_pred.reshape(-1,1) * (1 - y_test).reshape(-1,1))/np.sum(1 - y_test)))\n",
        "\n",
        "  # plot ROC\n",
        "  TPR, FPR = roc(probs, y_test)\n",
        "  plt.plot(FPR, TPR, linestyle='--', color='blue') \n",
        "  plt.plot([0,1],[0,1], linestyle='--', color='red') \n",
        "  title_str = \"Learning Rate: \" + str(curr_lr)\n",
        "  plt.title(title_str)\n",
        "  plt.xlabel('FPR')\n",
        "  plt.ylabel('TPR')\n",
        "  plt.show()\n"
      ],
      "metadata": {
        "colab": {
          "base_uri": "https://localhost:8080/",
          "height": 1000
        },
        "id": "Axdwgra0oSGX",
        "outputId": "feb9454d-370f-443e-c7af-dfe3f1d10b80"
      },
      "execution_count": null,
      "outputs": [
        {
          "output_type": "stream",
          "name": "stdout",
          "text": [
            "Accuracy Score: 0.40\n",
            "\n",
            "True Positive Rate: 0.28\n",
            "False Positive Rate: 0.36\n"
          ]
        },
        {
          "output_type": "display_data",
          "data": {
            "text/plain": [
              "<Figure size 432x288 with 1 Axes>"
            ],
            "image/png": "[encoded data removed]"
          },
          "metadata": {
            "needs_background": "light"
          }
        },
        {
          "output_type": "stream",
          "name": "stdout",
          "text": [
            "Accuracy Score: 0.91\n",
            "\n",
            "True Positive Rate: 0.94\n",
            "False Positive Rate: 0.16\n"
          ]
        },
        {
          "output_type": "display_data",
          "data": {
            "text/plain": [
              "<Figure size 432x288 with 1 Axes>"
            ],
            "image/png": "[encoded data removed]"
          },
          "metadata": {
            "needs_background": "light"
          }
        },
        {
          "output_type": "stream",
          "name": "stdout",
          "text": [
            "Accuracy Score: 0.92\n",
            "\n",
            "True Positive Rate: 0.93\n",
            "False Positive Rate: 0.09\n"
          ]
        },
        {
          "output_type": "display_data",
          "data": {
            "text/plain": [
              "<Figure size 432x288 with 1 Axes>"
            ],
            "image/png": "[encoded data removed]"
          },
          "metadata": {
            "needs_background": "light"
          }
        }
      ]
    },
    {
      "cell_type": "markdown",
      "source": [
        "If the learning rate is too large, the algorithm may \"overshoot\" the optimal value. Similarly, if it is too small, too many iterations will be needed for the algorithm to converge to the best values."
      ],
      "metadata": {
        "id": "p22kmr1njCwE"
      }
    },
    {
      "cell_type": "markdown",
      "source": [
        "#### **Problem 2 (f) L2 Regularization (Check)**\n",
        "\n",
        "A challenge in machine learning is to create an algorithm that is generlizable, i.e., works for data beyond the training data. Several strategies that are used in machine learning are explicitly designed to reduce the test error, possibly at the expense of increased training error. A subset of these strategies are known collectively as regularization techniques. \n",
        "\n",
        "One of the simplest and most common technicques to induce parameter norm penalty is the $L_2$ parameter norm penalty, known as weight decay. By adding $L_2$ normalization to our cost function, from above, we get the following: \n",
        "\n",
        "$$LL_{Regularized}(\\mathbf{x},y,w) = LL(\\mathbf{x},y,w) + \\alpha * (w^T\\cdot w)$$\n",
        "\n",
        "$$\\frac{\\partial LL_{Regularized}(\\mathbf{x},y,w)}{\\partial w_{j}} = \\frac{\\partial LL(\\mathbf{x},y,w)}{\\partial w_{j}} + 2 \\alpha w_{j}$$\n",
        "\n",
        "**_i)_** Change the `logit_cost_func` function to include the $L_2$ regularization.\n",
        "\n",
        "**_ii)_** Change the `logit_grad` function according to the cost function of $L_2$ regularization."
      ],
      "metadata": {
        "id": "IA4L7XuROOKi"
      }
    },
    {
      "cell_type": "markdown",
      "source": [
        "### <font color='red'>**Problem 2 (*f*) vi Solution Copy:</font>**"
      ],
      "metadata": {
        "id": "P54CD44tOJuV"
      }
    },
    {
      "cell_type": "code",
      "source": [
        "from copy import deepcopy\n",
        "\n",
        "class MyLogisticRegressionWithRegularization(MyLogisticRegression):\n",
        "    def __init__(self, X, y, alpha):\n",
        "        super().__init__(X, y)\n",
        "        \"\"\"Function intializes the Logistic Regression class.\n",
        "\n",
        "        Parameters:\n",
        "        -----------\n",
        "        X_train: ndarray of shape (N,D)\n",
        "            Numpy array containing N training examples, each D dimensional.\n",
        "\n",
        "        y_train: ndarray of shape (N,)\n",
        "            Numpy array containing vector of ground truth classes for examples in X_train\n",
        "\n",
        "        alpha: float\n",
        "            The regularization constant\n",
        "        \"\"\"\n",
        "\n",
        "        self.X = np.concatenate((X, np.ones((X.shape[0], 1))), axis=1)\n",
        "        self.y = y\n",
        "        self.w  = np.random.randn(self.X.shape[1],1)\n",
        "        self.alpha = alpha\n",
        "\n",
        "    ## question i\n",
        "    # define logistic regression cost function with L2 regularization\n",
        "    def logit_cost_func(self, w, X, y):\n",
        "        \"\"\"function computes value of cost function with L2 regularization given the w vector, the feature tensor, and corresponding targets\n",
        "        \"\"\"\n",
        "\n",
        "        return np.sum(- y.reshape(-1, 1) * np.log(self.sigmoid(X, w)) - (1 - y.reshape(-1, 1)) * np.log(1 - self.sigmoid(X, w))) / X.shape[0] + self.alpha * np.dot(w.reshape(1,-1),w)\n",
        "\n",
        "    ## question ii\n",
        "    # define gradient function with the L2 regularization term\n",
        "    def logit_grad(self, w, X, y):\n",
        "        \"\"\"Function computes the gradient of the logistic regression with L2 regularization given the w vector,\n",
        "        the tensor , and corresponding targets\"\"\"\n",
        "\n",
        "        return -(np.sum((y.reshape(-1,1) - self.sigmoid(X, w).reshape(-1,1))*X, axis=0) / X.shape[0]).reshape(-1,1) + 2 * self.alpha * w\n",
        "\n",
        "#-----------------Don't change anything below------------------------#\n",
        "\n",
        "# define train and test sizes\n",
        "N_train = 20\n",
        "N_test = 150 - N_train\n",
        "\n",
        "# define the range for the regularization parameter\n",
        "alpha_range = np.arange(0,0.2,0.001)\n",
        "\n",
        "# load data\n",
        "cancer = load_breast_cancer()\n",
        "X, y = cancer.data, cancer.target\n",
        "\n",
        "# Normalize X\n",
        "X = (X - np.min(X, axis=0, keepdims=True)) / (np.max(X, axis=0, keepdims=True) - np.min(X, axis=0, keepdims=True))\n",
        "\n",
        "# train-test split\n",
        "X_train, X_test, y_train, y_test = train_test_split(X, y, test_size=N_test, train_size=N_train, random_state=4803)\n",
        "\n",
        "# train model and predict on test data\n",
        "best_model = []\n",
        "best_accuracy = 0\n",
        "for curr_alpha in alpha_range:\n",
        "    model =  MyLogisticRegressionWithRegularization(X_train, y_train, alpha=curr_alpha)\n",
        "    model.fit(num_epochs = 50, step=2)\n",
        "    y_pred, probs = model.predict(X_test)\n",
        "\n",
        "    if accuracy_score(y_pred, y_test) > best_accuracy:\n",
        "        best_accuracy = accuracy_score(y_pred, y_test)\n",
        "        best_model = deepcopy(model)\n",
        "\n",
        "        # compute accuracy\n",
        "        print(\"The regularization coefficient: %.3f\" % curr_alpha)\n",
        "        print(\"Accuracy Score: %.2f\" % accuracy_score(y_pred, y_test))\n",
        "        print(\"True Positive Rate: %.2f\" % (np.sum(y_pred.reshape(-1,1) * y_test.reshape(-1,1))/np.sum(y_test)))\n",
        "        print(\"False Positive Rate: %.2f\" % (np.sum(y_pred.reshape(-1,1) * (1 - y_test).reshape(-1,1))/np.sum(1 - y_test)))\n",
        "        print(\"\\n\")\n",
        "\n",
        "# plot ROC\n",
        "y_pred, probs = best_model.predict(X_test)\n",
        "TPR, FPR = roc(probs, y_test)\n",
        "plt.plot(FPR, TPR, linestyle='--', color='blue')\n",
        "plt.plot([0,1],[0,1], linestyle='--', color='red')\n",
        "plt.xlabel('FPR')\n",
        "plt.ylabel('TPR')\n",
        "plt.show()\n",
        "\n",
        "print(\"The best regularization coefficient: %.3f\" % curr_alpha)\n",
        "print(\"Accuracy Score: %.2f\" % accuracy_score(y_pred, y_test))\n",
        "print(\"True Positive Rate: %.2f\" % (np.sum(y_pred.reshape(-1,1) * y_test.reshape(-1,1))/np.sum(y_test)))\n",
        "print(\"False Positive Rate: %.2f\" % (np.sum(y_pred.reshape(-1,1) * (1 - y_test).reshape(-1,1))/np.sum(1 - y_test)))\n",
        "print(\"\\n\")\n"
      ],
      "metadata": {
        "id": "c2sYt_F1OMJw",
        "colab": {
          "base_uri": "https://localhost:8080/",
          "height": 800
        },
        "outputId": "44916976-68b1-4297-8089-64eaf96ac741"
      },
      "execution_count": null,
      "outputs": [
        {
          "output_type": "stream",
          "name": "stdout",
          "text": [
            "The regularization coefficient: 0.000\n",
            "Accuracy Score: 0.89\n",
            "True Positive Rate: 0.92\n",
            "False Positive Rate: 0.16\n",
            "\n",
            "\n",
            "The regularization coefficient: 0.007\n",
            "Accuracy Score: 0.90\n",
            "True Positive Rate: 0.95\n",
            "False Positive Rate: 0.20\n",
            "\n",
            "\n",
            "The regularization coefficient: 0.009\n",
            "Accuracy Score: 0.91\n",
            "True Positive Rate: 0.95\n",
            "False Positive Rate: 0.18\n",
            "\n",
            "\n",
            "The regularization coefficient: 0.032\n",
            "Accuracy Score: 0.92\n",
            "True Positive Rate: 0.97\n",
            "False Positive Rate: 0.18\n",
            "\n",
            "\n"
          ]
        },
        {
          "output_type": "display_data",
          "data": {
            "text/plain": [
              "<Figure size 432x288 with 1 Axes>"
            ],
            "image/png": "[encoded data removed]"
          },
          "metadata": {
            "needs_background": "light"
          }
        },
        {
          "output_type": "stream",
          "name": "stdout",
          "text": [
            "The best regularization coefficient: 0.199\n",
            "Accuracy Score: 0.92\n",
            "True Positive Rate: 0.97\n",
            "False Positive Rate: 0.18\n",
            "\n",
            "\n"
          ]
        }
      ]
    },
    {
      "cell_type": "markdown",
      "metadata": {
        "id": "alPY48I8yLF4"
      },
      "source": [
        "### **Problem 3: Performance Evaluation Metrics for Classification Accuracy (20pts)**\n",
        "\n",
        "**Note:** it may take another week before we cover, in lecture, the material that covers this problem. \n",
        "\n",
        "Having just implemented two classifiers and done an initial performance evaluation via the accuracy score, we now move onto a more thorough and involved performance analysis. Although the accuracy metric may provide a quick baseline to judge results with, it can be very misleading in case of imbalanced training datasets, where some classes are dominated by others. Another performance metric that can be very useful in this case is the **Receiver Operating Characterists (ROC) curve**. It is essentially a plot of the True Positive Rate (TPR) against the False Positive Rate (FPR) for various thresholds on the posterior probabilties predicted by the classifier. Read the following questions carefully and answer as appropriate.\n",
        "\n",
        "**Problem 3 (a) (10pts)**<br> In the template code given below, fill in code to compute the TPRs and FPRs for a given posterior probability vector and the corresponding vector of ground-truths. \n",
        "\n",
        "**Problem 3 (b) (5pts)**<br> Execute the code to generate a plot of ROC curves for both the logistic regression classifier and the Naïve Bayes classifier for different training set sizes on the `breast_cancer` dataset. What do you observe in each individual subplot regarding how the accuracy metric and the roc curve change relative to the training set size? What do you think is the explanation for this trend? Now compare the the individual plots to each other. Which classifier is more robust in the case of limited data on the `breast_cancer` dataset? \n",
        "\n",
        "**Problem 3 (c) (5pts)**<br> We are given four classifiers for which we observe the following cases:\n",
        "<ol type='i'>\n",
        "<li> Low TPR, Low FPR\n",
        "<li> Low TPR, High FPR\n",
        "<li> High TPR, Low FPR\n",
        "<li> High TPR, High FPR\n",
        "</ol>\n",
        "\n",
        "What does each situation tell us about the respective classifier? Explain in terms of what you think the training data distribution might have been and/or the particular predictive nature of the classifier. "
      ]
    },
    {
      "cell_type": "markdown",
      "metadata": {
        "id": "tKb0gGFpyWBN"
      },
      "source": [
        "### <font color='red'>**Problem 3 (a) Solution Copy:</font>**"
      ]
    },
    {
      "cell_type": "code",
      "metadata": {
        "colab": {
          "base_uri": "https://localhost:8080/",
          "height": 458
        },
        "id": "h-t0VWy0yXD5",
        "outputId": "889fb2d7-8aa8-45c4-fa8e-807d710799df"
      },
      "source": [
        "import numpy as np\n",
        "import matplotlib.pyplot as plt\n",
        "from sklearn.datasets import load_breast_cancer\n",
        "from sklearn.model_selection import train_test_split\n",
        "from sklearn.metrics import accuracy_score\n",
        "\n",
        "\n",
        "def roc(probs, y_test):\n",
        "    \"\"\"Function returns TPR and FPR given a vector of probabilities and another \n",
        "    for ground-truth predictions\n",
        "    \n",
        "    Parameters:\n",
        "    -----------\n",
        "    probs: ndarray of shape (N,1)\n",
        "        numpy array of normalized posterior porbabilities for each of N examples in a test dataset\n",
        "        \n",
        "    y_test: ndarray of shape (N,1)\n",
        "        numpy array containing ground-truth class predictions for each of the N examples in test set\n",
        "        \n",
        "    Returns:\n",
        "    --------\n",
        "    TPR: ndarray of shape (D,1)\n",
        "        numpy array containing true positive rates for each of the D thresholds applied to the posterior probs\n",
        "        \n",
        "    FPR: ndarray of shape (D,1)\n",
        "        numpy array containing false positive rates for each of the D thresholds applied to the posterior probs\n",
        "        \"\"\"\n",
        "    \n",
        "    thresholds = np.linspace(-0.1,1,100).reshape(1,-1)\n",
        "    mask = (probs > thresholds)*1 \n",
        "    TPR = np.sum(mask * y_test.reshape(-1,1), axis=0) / y_test.sum()\n",
        "    FPR = np.sum(mask * (1-y_test.reshape(-1,1)), axis=0) / (1 - y_test).sum()\n",
        "    \n",
        "    return TPR, FPR\n",
        "\n",
        "#-----------------Don't change anything below------------------------#\n",
        "\n",
        "# load data\n",
        "cancer = load_breast_cancer()\n",
        "X, y = cancer.data, cancer.target\n",
        "\n",
        "# Normalize X\n",
        "X = (X - np.min(X, axis=0, keepdims=True)) / (np.max(X, axis=0, keepdims=True) - np.min(X, axis=0, keepdims=True))\n",
        "\n",
        "# define training set sizes\n",
        "training_set_sizes = [10, 50, 100]\n",
        "\n",
        "# set up plots\n",
        "fig, (ax1, ax2) = plt.subplots(1,2, figsize=(15,7))\n",
        "\n",
        "for train_size in training_set_sizes:\n",
        "    \n",
        "    # define train and test sizes\n",
        "    N_train = train_size\n",
        "    N_test = 150 - N_train\n",
        "\n",
        "    # train-test split\n",
        "    X_train, X_test, y_train, y_test = train_test_split(X, y, test_size=N_test, train_size=N_train, random_state=4803)\n",
        " \n",
        "    # train model and predict on test data\n",
        "    model =  MyLogisticRegression(X_train, y_train)\n",
        "    model.fit(num_epochs = 50, step=2)\n",
        "    y_pred, probs = model.predict(X_test)\n",
        "\n",
        "\n",
        "    # plot ROC for logistic regression\n",
        "    TPR, FPR = roc(probs, y_test)\n",
        "    ax1.plot(FPR, TPR, label='Training Size: %d, Accuracy: %.2f'%(train_size, accuracy_score(y_pred, y_test))) \n",
        "    ax1.plot([0,1],[0,1], linestyle='--', color='red') \n",
        "    ax1.set_xlabel('FPR')\n",
        "    ax1.set_ylabel('TPR')\n",
        "    \n",
        "\n",
        "    # train model and predict on test data\n",
        "    model =  MyNaiveBayes(X_train, y_train)\n",
        "    model.fit()\n",
        "    y_pred, probs = model.predict(X_test)\n",
        "\n",
        "    # plot ROC for Naive Bayes\n",
        "    TPR, FPR = roc(probs[:,1].reshape(-1,1), y_test)\n",
        "    \n",
        "    ax2.plot(FPR, TPR, label='Training Size: %d, Accuracy: %.2f'%(train_size, accuracy_score(y_pred, y_test))) \n",
        "    ax2.plot([0,1],[0,1], linestyle='--', color='red') \n",
        "    ax2.set_xlabel('FPR')\n",
        "    ax2.set_ylabel('TPR')\n",
        "    \n",
        "\n",
        "\n",
        "ax1.set_title('Prediction with Logistic Regression')\n",
        "ax2.set_title('Prediction with Naive Bayes')    \n",
        "ax1.legend()\n",
        "ax2.legend()\n",
        "plt.show()    "
      ],
      "execution_count": null,
      "outputs": [
        {
          "output_type": "display_data",
          "data": {
            "image/png": "[encoded data removed]",
            "text/plain": [
              "<Figure size 1080x504 with 2 Axes>"
            ]
          },
          "metadata": {
            "needs_background": "light"
          }
        }
      ]
    },
    {
      "cell_type": "markdown",
      "source": [
        "### <font color='red'>**Problem 3 (b) Solution Copy:</font>**"
      ],
      "metadata": {
        "id": "QIBYcNwHlKqn"
      }
    },
    {
      "cell_type": "markdown",
      "metadata": {
        "id": "nE7b4EUwMv73"
      },
      "source": [
        "\n",
        "Increasing the size of the training set causes a general trend of improvement in accuracy for both classifers. For Naive Bayes the increase is very drastic from training size 10 to tranining size 50, with accuracy jumping from 0.81 to 0.93. For Logistic Regression, it is very minimal. \n",
        "\n",
        "Comparing the plots for Logistic Regression to those for Naive Bayes, it seems Logistic Regression is more robust to limited training data compared to Naive Bayes. The ROC curve for traninig set size 10 is closer to the top left corner compared to the same curve for Naive Bayes. This could partly stem from the fact that as a discriminative classifier (i.e., learns $P(y|\\mathbf{x})$), Logistic Regression is able to generalize better to the test data distribution compared to Naive Bayes, which makes a simplistic assumption of feature independence to learn the underlying generative distribution (i.e., learns $P(y,\\mathbf{x})$). \n",
        " "
      ]
    },
    {
      "cell_type": "markdown",
      "source": [
        "### <font color='red'>**Problem 3 (c) Solution Copy:</font>**"
      ],
      "metadata": {
        "id": "ByAYgj9plfdn"
      }
    },
    {
      "cell_type": "markdown",
      "source": [
        "\n",
        "Assuming we are thresholding at 0.5 for all of the cases below:\n",
        "\n",
        "**_i) Low TPR, Low FPR_** \\\\\n",
        "This situations speaks of the scenario where the classifier is predicting the negative class samples as negative with high confidence but also predicting a great many positive class samples as negative with high confidence. In other words, the classifer is prioritizing getting the negative class samples right over correct classification of positive class samples. \n",
        "\n",
        "**_ii) Low TPR, High FPR_** \\\\\n",
        "This is the scenario where the classifier doesn't have much confidence in either its positive or negative class predictions, with quite a few samples from wither class being predicted as belonging to the other one. \n",
        "\n",
        "\n",
        "**_iii) High TPR, Low FPR_** \\\\\n",
        "This is the ideal case where the classifier is predicting positive class samples as positive with high confidence and negative class samples as negative with high confidence.\n",
        "\n",
        "**_iv) High TPR, High FPR_**\n",
        "\n",
        "This is the opposite situation to part (i) where the classifier is predicting positive class samples as positive with high confience but in the process also misclassifying a great portion of negative class samples also as psoitive. In this case, it is prioritizing the correct classification of positive samples over the correct categorization of negative samples."
      ],
      "metadata": {
        "id": "oQPHaG-kleSM"
      }
    },
    {
      "cell_type": "markdown",
      "source": [
        "### **Problem 4: Support Vector Machines**\n",
        "\n",
        "Support vector machine is an algorithm belonging to the group of the so called maximum margin classifiers. SVMs became popular in the early 90's due to their ability to solve classification, regression and novelty detection problems.\n"
      ],
      "metadata": {
        "id": "stiZ_RgKta9z"
      }
    },
    {
      "cell_type": "markdown",
      "source": [
        "In Lecture 4, Page 30, you have seen that the SVM can be formulated as follows.\n",
        "\n",
        "\\begin{aligned}\n",
        "\\underset{\\mathbf{w}, b_i}{\\operatorname{minimize}} & \\frac{1}{2} \\|\\mathbf{w}\\|_2^2+C \\sum_{i=1}^N \\max (0,1-y_i (\\mathbf{w}^{\\top} \\mathbf{x}_i-b)) = \\underset{\\mathbf{w}, b_i}{\\operatorname{minimize}} L_{hinge} (\\mathbf{w}, b_i) \\\\\n",
        "\\text { subject to } & y_i\\left(\\mathbf{w}^{\\top} \\mathbf{x}_i-b\\right) \\geq 1-\\zeta_i, \\quad \\zeta_i \\geq 0 \\quad \\forall i \\in\\{1, \\ldots, n\\}\n",
        "\\end{aligned}\n",
        "\n",
        "$$\\text{where } \\zeta_i = \\max (0,1-y_i (\\mathbf{w}^{\\top} \\mathbf{x}_i-b))$$\n",
        "\n",
        "You will solve this optimization problem using the gradient descent algorithm in this example. The algorithm will work in batches, meaning that the parameters will not be updated after every sample, or the algorithm will not wait for all the training data to be used to calculate the loss. Instead, the parameter update will be performed after a predetermined number of training samples.\n",
        "\n",
        "We need to calculate the gradient of the loss function $L_{hinge}$ with respect to $\\mathbf{w}$ and $b_i$. Considering the formulas presented in the [matrix cookbook](https://gatech.instructure.com/courses/289412/files/38039189?wrap=1) Page 10, the derivative of the max function, and the chain rule, we can find the partial derivatives as follows. First consider the derivative of the $max$ function.\n",
        "\n",
        "$$\n",
        "f_{max}(x)=\\max (0,g(x)) \\\\\n",
        "f_{max}^{\\prime}(x)= \\begin{cases}g^{\\prime}(x) & \\text { if } g(x) \\geq 0 \\\\ 0 & \\text { if } g(x) \\leq 0\\end{cases} = \\max (0,g'(x))\n",
        "$$\n",
        "\n",
        "And the partial derivatives of the hinge loss is follows.\n",
        "\n",
        "$$\n",
        "\\frac{\\partial L_{hinge} (\\mathbf{w}, b)}{\\partial \\mathbf{w}} = \\mathbf{w} +C \\sum_{i=1}^N max (0,-y_i \\mathbf{x}) \\\\\n",
        "\\frac{\\partial L_{hinge} (\\mathbf{w}, b)}{\\partial b} = C \\sum_{i=1}^N max (0,-y_i \\mathbf{1}) \\\\\n",
        "\\text{where } \\mathbf{1} \\text{ is a column vector with the same size of } b \\text{ consisting of ones.} \n",
        "$$\n",
        "\n",
        "**Problem 4 (a) (CHECK)**\n",
        "\n",
        "Carefully read the questions below and answer them appropriately.\n",
        "\n",
        "**_i)_** Complete the `hingeloss` function.\n",
        "\n",
        "**_ii)_** Calculate the code snippet where the gradients are calculated.\n",
        "\n",
        "**_iii)_** Calculate the code snippet where weights and biases are updated.\n",
        "\n",
        "**_iv)_** Complete the `predict` function.\n",
        "\n",
        "> Do not change the function definitions for the functions defined in the SVM class template below. They should take inputs and output results of the form indicated. You are free to add other internal functions and use them inside the class definition as you see convenient. However, that should not change the external code's structure, nor the shape and form of the outputs returned. **_Note_**: Any variable preceded by the `self.` keyword gets stored by the class structure and can be used and changed afterwards inside the class regardless of whether the function that first made it returns it or not."
      ],
      "metadata": {
        "id": "mObNX5UWubyb"
      }
    },
    {
      "cell_type": "markdown",
      "source": [
        "### <font color='red'>**Problem 4 (a) Solution Copy:</font>**"
      ],
      "metadata": {
        "id": "RHjwwP7k8kH4"
      }
    },
    {
      "cell_type": "code",
      "source": [
        "import numpy as np\n",
        "\n",
        "class SVM:\n",
        "\n",
        "    def __init__(self, C = 1.0):\n",
        "        # C = error term\n",
        "        self.C = C\n",
        "        self.w = 0\n",
        "        self.b = 0\n",
        "    ## question i\n",
        "    def hingeloss(self, w, b, x, y):\n",
        "        \"\"\"Function computes the hinge loss\"\"\"\n",
        "        \"\"\"\n",
        "        Parameters:\n",
        "        -----------\n",
        "        w: ndarray of shape (D,)\n",
        "            1D numpy array representing the normal vector to the SVM hyperplane.\n",
        "\n",
        "        b: ndarray of shape (D,)\n",
        "            1D numpy array representing the vector that translates the SVM hyperplane.\n",
        "\n",
        "        X: ndarray of shape (N,D)\n",
        "            2D numpy array containing N training examples having D dimensions each.\n",
        "\n",
        "        Y: ndarray of shape (N,)\n",
        "            1D numpy array containing containing ground truth class information.\n",
        "\n",
        "        Returns:\n",
        "        --------\n",
        "        y_pred: float\n",
        "            float containing the hinge loss.\n",
        "\n",
        "        \"\"\"\n",
        "        # hinge loss function / calculation\n",
        "        # regularization term\n",
        "        reg = 0.5 * np.dot(w, w.transpose())\n",
        "\n",
        "        for i in range(x.shape[0]):\n",
        "            # calculating loss\n",
        "            opt_term = y[i] * ((np.dot(w, x[i])) + b)\n",
        "            loss = reg + self.C * max(0, 1-opt_term)\n",
        "        return float(loss)\n",
        "\n",
        "\n",
        "    def fit(self, X, Y, batch_size=100, learning_rate=0.001, epochs=1000):\n",
        "        # the number of features in X\n",
        "        number_of_features = X.shape[1]\n",
        "\n",
        "        # the number of Samples in X\n",
        "        number_of_samples = X.shape[0]\n",
        "\n",
        "        c = self.C\n",
        "\n",
        "        # creating ids from 0 to number_of_samples - 1\n",
        "        ids = np.arange(number_of_samples)\n",
        "\n",
        "        # shuffling the samples randomly\n",
        "        np.random.shuffle(ids)\n",
        "\n",
        "        # creating an array of zeros\n",
        "        w = np.zeros((1, number_of_features))\n",
        "        b = 0\n",
        "        losses = []\n",
        "\n",
        "        # gradient descent algorithm\n",
        "        for i in range(epochs):\n",
        "            # calculating the Hinge Loss\n",
        "            l = self.hingeloss(w, b, X, Y)\n",
        "\n",
        "            # appending all losses\n",
        "            losses.append(l)\n",
        "\n",
        "            # starting from 0 to the number of samples with batch_size as interval\n",
        "            for batch_initial in range(0, number_of_samples, batch_size):\n",
        "                gradw = 0\n",
        "                gradb = 0\n",
        "\n",
        "                for j in range(batch_initial, batch_initial+ batch_size):\n",
        "                    if j < number_of_samples:\n",
        "                        x = ids[j]\n",
        "                        ## question ii\n",
        "                        # calculating the gradients\n",
        "                        ti = Y[x] * (np.dot(w, X[x].T) + b)\n",
        "                        if ti > 1:\n",
        "                            gradw += 0\n",
        "                            gradb += 0\n",
        "                        else:\n",
        "                            #w.r.t w\n",
        "                            gradw += c * Y[x] * X[x]\n",
        "                            # w.r.t b\n",
        "                            gradb += c * Y[x]\n",
        "                ## question iii\n",
        "                # updating weights and bias\n",
        "                w = w - learning_rate * w + learning_rate * gradw\n",
        "                b = b + learning_rate * gradb\n",
        "\n",
        "        self.w = w\n",
        "        self.b = b\n",
        "\n",
        "        return self.w, self.b, losses\n",
        "\n",
        "    def predict(self, X):\n",
        "        ## question iv\n",
        "        # prediction\n",
        "        \"\"\"Function predicts the output of the SVM\"\"\"\n",
        "        \"\"\"\n",
        "        Parameters:\n",
        "        -----------\n",
        "        X: ndarray of shape (N,D)\n",
        "            2D numpy array containing N testing examples having D dimensions each.\n",
        "\n",
        "        Returns:\n",
        "        --------\n",
        "        svm_prediction: ndarray of shape (N,)\n",
        "            The prediction of the SVM algorithm in the form of integers. (The \n",
        "            output should be an element of the set {1, -1}.)\n",
        "        \"\"\"\n",
        "        prediction = np.dot(X, self.w[0]) + self.b # w.x + b\n",
        "        svm_prediction = np.sign(prediction)\n",
        "        return svm_prediction\n",
        "\n",
        "# Visualizing SVM\n",
        "def visualize_svm():\n",
        "\n",
        "    def get_hyperplane_value(x, w, b, offset):\n",
        "        return (-w[0][0] * x + b + offset) / w[0][1]\n",
        "\n",
        "    fig = plt.figure()\n",
        "    ax = fig.add_subplot(1,1,1)\n",
        "    plt.scatter(X_test[:, 0], X_test[:, 1], marker=\"o\", c=y_test)\n",
        "\n",
        "    x0_1 = np.amin(X_test[:, 0])\n",
        "    x0_2 = np.amax(X_test[:, 0])\n",
        "\n",
        "    x1_1 = get_hyperplane_value(x0_1, w, b, 0)\n",
        "    x1_2 = get_hyperplane_value(x0_2, w, b, 0)\n",
        "\n",
        "    x1_1_m = get_hyperplane_value(x0_1, w, b, -1)\n",
        "    x1_2_m = get_hyperplane_value(x0_2, w, b, -1)\n",
        "\n",
        "    x1_1_p = get_hyperplane_value(x0_1, w, b, 1)\n",
        "    x1_2_p = get_hyperplane_value(x0_2, w, b, 1)\n",
        "\n",
        "    ax.plot([x0_1, x0_2], [x1_1, x1_2], \"y--\")\n",
        "    ax.plot([x0_1, x0_2], [x1_1_m, x1_2_m], \"k\")\n",
        "    ax.plot([x0_1, x0_2], [x1_1_p, x1_2_p], \"k\")\n",
        "\n",
        "    x1_min = np.amin(X[:, 1])\n",
        "    x1_max = np.amax(X[:, 1])\n",
        "    ax.set_ylim([x1_min - 3, x1_max + 3])\n",
        "\n",
        "    plt.show()\n",
        "\n",
        "#-----------------Don't change anything above------------------------#\n",
        "from sklearn import datasets\n",
        "import matplotlib.pyplot as plt\n",
        "from sklearn.metrics import accuracy_score\n",
        "from sklearn.model_selection import train_test_split\n",
        "\n",
        "# Creating dataset\n",
        "X, y = datasets.make_blobs(\n",
        "\n",
        "        n_samples = 100, # Number of samples\n",
        "        n_features = 2, # Features\n",
        "        centers = 2,\n",
        "        cluster_std = 1,\n",
        "        random_state=40\n",
        "    )\n",
        "\n",
        "# Classes 1 and -1\n",
        "y = np.where(y == 0, -1, 1)\n",
        "\n",
        "X_train, X_test, y_train, y_test = train_test_split(X, y, test_size=0.5, random_state=42)\n",
        "\n",
        "svm = SVM()\n",
        "\n",
        "w, b, losses = svm.fit(X_train, y_train)\n",
        "\n",
        "prediction = svm.predict(X_test)\n",
        "\n",
        "# Loss value\n",
        "lss = losses.pop()\n",
        "\n",
        "print(\"Loss:\", lss)\n",
        "# print(\"Prediction:\", prediction)\n",
        "print(\"Accuracy:\", accuracy_score(prediction, y_test))\n",
        "print(\"w, b:\", [w, b])\n",
        "\n",
        "# Visualizing the scatter plot of the dataset\n",
        "def visualize_dataset():\n",
        "    plt.scatter(X[:, 0], X[:, 1], c=y)\n",
        "\n",
        "\n",
        "visualize_dataset()\n",
        "visualize_svm()\n"
      ],
      "metadata": {
        "id": "bcDMSvigvyrV",
        "colab": {
          "base_uri": "https://localhost:8080/",
          "height": 567
        },
        "outputId": "518b2c13-dce5-4ef6-a523-0189fa3618d3"
      },
      "execution_count": null,
      "outputs": [
        {
          "output_type": "stream",
          "name": "stdout",
          "text": [
            "Loss: 0.1105510127774915\n",
            "Accuracy: 1.0\n",
            "w, b: [array([[0.44477983, 0.15109913]]), 0.05700000000000004]\n"
          ]
        },
        {
          "output_type": "display_data",
          "data": {
            "text/plain": [
              "<Figure size 432x288 with 1 Axes>"
            ],
            "image/png": "[encoded data removed]"
          },
          "metadata": {
            "needs_background": "light"
          }
        },
        {
          "output_type": "display_data",
          "data": {
            "text/plain": [
              "<Figure size 432x288 with 1 Axes>"
            ],
            "image/png": "[encoded data removed]"
          },
          "metadata": {
            "needs_background": "light"
          }
        }
      ]
    },
    {
      "cell_type": "markdown",
      "source": [
        "**Problem 4 (b) (CHECK)**\n",
        "\n",
        "In this part, you will use generate another dataset that is not completely separable and see the behavior of SVM. For this subproblem, adjust the number of data samples to 400 and cluster standard deviations as 4."
      ],
      "metadata": {
        "id": "jlbM2XM_Uvf2"
      }
    },
    {
      "cell_type": "markdown",
      "source": [
        "### <font color='red'>**Problem 4 (b) Solution Copy:</font>**"
      ],
      "metadata": {
        "id": "Qk_zOWU7WiPQ"
      }
    },
    {
      "cell_type": "code",
      "source": [
        "import numpy as np\n",
        "from sklearn import datasets\n",
        "import matplotlib.pyplot as plt\n",
        "from sklearn.metrics import accuracy_score\n",
        "from sklearn.model_selection import train_test_split\n",
        "\n",
        "#-----------------Don't change anything above------------------------#\n",
        "\n",
        "\n",
        "# Creating dataset\n",
        "X, y = datasets.make_blobs(\n",
        "\n",
        "        n_samples = 400, # Number of samples\n",
        "        n_features = 2, # Features\n",
        "        centers = 2,\n",
        "        cluster_std = 4,\n",
        "        random_state=40\n",
        "    )\n",
        "\n",
        "#-----------------Don't change anything below------------------------#\n",
        "\n",
        "\n",
        "# Classes 1 and -1\n",
        "y = np.where(y == 0, -1, 1)\n",
        "\n",
        "X_train, X_test, y_train, y_test = train_test_split(X, y, test_size=0.5, random_state=42)\n",
        "\n",
        "svm = SVM()\n",
        "\n",
        "w, b, losses = svm.fit(X_train, y_train)\n",
        "\n",
        "prediction = svm.predict(X_test)\n",
        "\n",
        "# Loss value\n",
        "lss = losses.pop()\n",
        "\n",
        "print(\"Loss:\", lss)\n",
        "# print(\"Prediction:\", prediction)\n",
        "print(\"Accuracy:\", accuracy_score(prediction, y_test))\n",
        "print(\"w, b:\", [w, b])\n",
        "\n",
        "# Visualizing the scatter plot of the dataset\n",
        "def visualize_dataset():\n",
        "    plt.scatter(X[:, 0], X[:, 1], c=y)\n",
        "\n",
        "\n",
        "visualize_dataset()\n",
        "visualize_svm()\n"
      ],
      "metadata": {
        "colab": {
          "base_uri": "https://localhost:8080/",
          "height": 565
        },
        "id": "DY_Xm1LcWjJb",
        "outputId": "06547c64-a1ab-4ad4-f781-c0857b58f3eb"
      },
      "execution_count": null,
      "outputs": [
        {
          "output_type": "stream",
          "name": "stdout",
          "text": [
            "Loss: 0.07424717645671335\n",
            "Accuracy: 0.92\n",
            "w, b: [array([[0.34281965, 0.16305878]]), 0.24000000000000016]\n"
          ]
        },
        {
          "output_type": "display_data",
          "data": {
            "text/plain": [
              "<Figure size 432x288 with 1 Axes>"
            ],
            "image/png": "[encoded data removed]"
          },
          "metadata": {
            "needs_background": "light"
          }
        },
        {
          "output_type": "display_data",
          "data": {
            "text/plain": [
              "<Figure size 432x288 with 1 Axes>"
            ],
            "image/png": "[encoded data removed]"
          },
          "metadata": {
            "needs_background": "light"
          }
        }
      ]
    }
  ]
}